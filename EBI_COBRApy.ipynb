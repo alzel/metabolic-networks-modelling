{
 "cells": [
  {
   "cell_type": "markdown",
   "metadata": {},
   "source": [
    "# EBI In Silico Systems Biology 2016\n",
    "# Constrained based modelling of metabolic networks\n",
    "\n",
    "Paula Jouhten(1, 2), Kiran Patil(2), Karin Sasaki(2), Aleksej Zelezniak(3, 4)\n",
    "\n",
    "- (1). University of Helsinki\n",
    "- (2). EMBL\n",
    "- (3). The Francis Crick Institute\n",
    "- (4). Cambridge University"
   ]
  },
  {
   "cell_type": "markdown",
   "metadata": {},
   "source": [
    "## In silico design of microbial metabolic networks"
   ]
  },
  {
   "cell_type": "markdown",
   "metadata": {},
   "source": [
    "To economically produce desired compounds from microbial cell factories it is often necessary to engineer their metabolic networks. Indeed, microorganisms are typically evolved for maximizing growth (or other fitness traits) in their natural habitat and not for over-producing metabolites of human interest. Retrofitting of microbial metabolism has traditionally been done through classical strain improvement that involved random mutagenesis and screening. Such approaches are laborious, unpredictable, and fail to take advantage of the rapidly increasing knowledge of how microorganisms work. Rational engineering of microbial metabolic networks is thus crucial for realizing the potential of synthetic biology. In absence of such methods, the new pathways and functionalities offered by synthetic biology risk to remain below the levels mandated by economic feasibility. Furthermore, rational design of native cellular networks will become an integral part of synthetic biology applications beyond metabolite production – new synthetic circuit must operate in harmony within the context of native networks. Metabolic networks, being relatively well charted from topological as well as mechanistic point of view, offer a good starting point to build our capability to engineer complex networks. \n",
    "\n",
    "In this course, we will introduce the basic concepts of metabolic modeling from a synthetic biology perspective. The focus will be on stoichiometric models of metabolism as these can be applied at the scale of genome and with minimal assumptions. We will use the Python package for constrained based modelling, COBRApy."
   ]
  },
  {
   "cell_type": "markdown",
   "metadata": {},
   "source": [
    "#### Supplementary reading \n",
    "1. Brochado A.R. & Patil K.R. Model-guided identification of gene deletion targets for metabolic engineering in Saccharomyces cerevisiae.  Yeast Metabolic Engineering: Methods and Protocols, Springer, 1152:281-294 (2014).\n",
    "2. Otero, J.M., Cimini, D., Patil, K.R., Poulsen, S.G., Olsson, L. & Nielsen, J. Industrial Systems Biology of Saccharomyces cerevisiae Enables Novel Succinic Acid Cell Factory. PLoS One 8(1): e54144 (2013).\n",
    "3. Patil K. R., Rocha I., Forster J. & Nielsen J. Evolutionary programming as a platform for in silico metabolic engineering. BMC Bioinformatics. 6, 308 (2005).\n",
    "4. Orth JD, Thiele I, Palsson BO. What is flux balance analysis? Nat Biotechnol 28(3):245–248 (2010).\n",
    "5. I Borodina, J Nielsen. Advances in metabolic engineering of yeast Saccharomyces cerevisiae for production of chemicals. Biotechnology journal (9) 609-20 (2014).\n",
    "6. Aung HW, Henry SA, Walker LP. Revising the Representation of Fatty Acid, Glycerolipid, and Glycerophospholipid Metabolism in the Consensus Model of Yeast Metabolism. Ind Biotechnol (New Rochelle N Y). 9:215-228 (2013).\n",
    "7. Förster J, Famili I, Fu P, Palsson BØ, Nielsen J. Genome-scale reconstruction of the Saccharomyces cerevisiae metabolic network. Genome Res. 13:244-53 (2003).\n",
    "8.\tKozak BU, van Rossum HM, Benjamin KR, Wu L, Daran JM, Pronk JT, van Maris AJ. Replacement of the Saccharomyces cerevisiae acetyl-CoA synthetases by alternative pathways for cytosolic acetyl-CoA synthesis. Metab Eng. 21:46-59 (2014)."
   ]
  },
  {
   "cell_type": "markdown",
   "metadata": {},
   "source": [
    "#### Useful links\n",
    "\n",
    "Install COBRApy: https://github.com/opencobra/cobrapy/blob/master/INSTALL.md\n",
    "\n",
    "Getting started with COBRApy: https://cobrapy.readthedocs.io/en/0.3.0b3/introduction.html\n",
    "\n",
    "Introduction to programming with Python: https://github.com/tobyhodges/ITPP\n",
    "\n",
    "Further information on using and creating function with Python: \n",
    "\n",
    "An introduction to Numpy:"
   ]
  },
  {
   "cell_type": "markdown",
   "metadata": {},
   "source": [
    "## Introduction to stoichiometric models"
   ]
  },
  {
   "cell_type": "markdown",
   "metadata": {},
   "source": [
    "Cellular metabolic networks are highly complex and involve hundreds of enzymes and metabolites. Together, enzymes synthesize building blocks of life (DNA, proteins, lipids etc.) and ensure thermodynamically favorable environment for growth and maintenance.\n",
    "\n",
    "The state of any metabolic network is largely defined by the **fluxes** through different reactions, i.e. the rates of corresponding enzymatic reactions. These reaction rates are dependent on various parameters in a highly non-linear fashion. \n",
    "\n",
    "It is, however, possible to simulate many networks of interest by using a **linear system of equations**: Since chemical compounds react in a fixed stoichiometry, one can write flux balance for each metabolite by using *law of conservation of mass*. Usually, mass balance equation is written only for the intracellular metabolites (i.e. metabolites present inside the cells). Thus, the cell wall defines the boundary of our system."
   ]
  },
  {
   "cell_type": "markdown",
   "metadata": {},
   "source": [
    "### Example 1\n",
    "\n",
    "An example of simple network with 3 fluxes and 1 metabolite is shown below."
   ]
  },
  {
   "cell_type": "markdown",
   "metadata": {},
   "source": [
    "![alt text](1.png)"
   ]
  },
  {
   "cell_type": "markdown",
   "metadata": {},
   "source": [
    "The mass balance equation (i.e. ‘what comes in must go out’) for this example is:  \n",
    "```\n",
    "f1 + f2 = f3 \n",
    "or \n",
    "f1 + f2 – f3 = 0\n",
    "```"
   ]
  },
  {
   "cell_type": "markdown",
   "metadata": {},
   "source": [
    "### Example 2 - Relevant Python commands\n",
    "\n",
    "Consider a metabolic network depicted in the following picture (see also the stoichiometric equations for the each reactions below), with \n",
    "```\n",
    "f1 = 1 \n",
    "f3 = 0.5\n",
    "```"
   ]
  },
  {
   "cell_type": "markdown",
   "metadata": {},
   "source": [
    "![alt text](2.png)"
   ]
  },
  {
   "cell_type": "markdown",
   "metadata": {},
   "source": [
    "#### Stoichiometric equations:\n",
    "1.\tReaction 1: ``` M1 = 0```\n",
    "2.\tReaction 2: ```-M1 + 0.5 M2 + 0.5 M3 = 0```\n",
    "3.\tReaction 3: ```–M2 = 0```\n",
    "4.\tReaction 4: ```-M2 = 0```\n",
    "5.\tReaction 5:\t```–M3 = 0```\n",
    "\n",
    "\n",
    "#### Stoichiometric matrix:\n",
    "\n",
    "Number of rows = number of metabolites\n",
    "\n",
    "Number of columns = number of reactions\n",
    "\n",
    "![alt text](3.png)\n",
    "\n",
    "This matrix is referred to as stoichiometric matrix and an element of this matrix is called stoichiometric coefficient. "
   ]
  },
  {
   "cell_type": "markdown",
   "metadata": {},
   "source": [
    "#### Creating a matrix with python:\n",
    "\n",
    "First of all, we need to import the numpy module:"
   ]
  },
  {
   "cell_type": "code",
   "execution_count": 1,
   "metadata": {
    "collapsed": true
   },
   "outputs": [],
   "source": [
    "import numpy as np"
   ]
  },
  {
   "cell_type": "markdown",
   "metadata": {},
   "source": [
    "There are multiple ways of creating a matrix in Python. For small matrix as in the above example, easiest way is either to type-in the matrix, as shown below. Another way would be to create the matrix in excel or a text file and import it, using the command ```numpy.loadtxt```."
   ]
  },
  {
   "cell_type": "code",
   "execution_count": 2,
   "metadata": {
    "collapsed": false
   },
   "outputs": [
    {
     "name": "stdout",
     "output_type": "stream",
     "text": [
      "S = \n",
      "[[-1.  -1.   0.   0.   0. ]\n",
      " [ 0.   0.5 -1.  -1.   0. ]\n",
      " [ 0.   0.5  0.   0.  -1. ]]\n",
      "Dimensions of S:\n",
      "(3, 5)\n",
      "Three rows and five colums - three metabolites and five reactions.\n"
     ]
    }
   ],
   "source": [
    "# Stoichiometric matrix\n",
    "S = np.array([[-1, -1, 0, 0, 0],\n",
    "              [0, 0.5, -1, -1, 0],\n",
    "              [0, 0.5, 0, 0, -1]\n",
    "             ])\n",
    "print('S = ')\n",
    "print(S)\n",
    "print('Dimensions of S:')\n",
    "print(np.shape(S))\n",
    "print('Three rows and five colums - three metabolites and five reactions.')"
   ]
  },
  {
   "cell_type": "markdown",
   "metadata": {},
   "source": [
    "#### How many flux measurements we will need in order to have a completely determined system?\n",
    "\n",
    "Rank of the above stoichiometric matrix is:"
   ]
  },
  {
   "cell_type": "code",
   "execution_count": 3,
   "metadata": {
    "collapsed": false
   },
   "outputs": [
    {
     "name": "stdout",
     "output_type": "stream",
     "text": [
      "Rank of S\n",
      "3\n"
     ]
    }
   ],
   "source": [
    "print('Rank of S')\n",
    "print(np.linalg.matrix_rank(S))"
   ]
  },
  {
   "cell_type": "markdown",
   "metadata": {},
   "source": [
    "...hence we will need 2 (= 5 variables – 3 equations) measurements in order to solve the equations. \n",
    "\n",
    "Let’s assume that we are given f1 = 1 and f3 = 0.5. \n",
    "\n",
    "We can then write the following set of equations where only variables left are f2, f4 and f5.\n",
    "\n",
    "1.\tMass balance equation for M1: ```f1 = f2``` or ```f1 – f2 = 0``` implies ```f2 = 1```\n",
    "2.\tMass balance equation for M2: ```0.5f2 = f3 + f4``` or ```0.5f2 – f3 – f4``` implies ```0.5 f2 – f4 = 0.5```\n",
    "3.\tMass balance equation for M3: ```0.5f2 = f5``` or ```0.5f2 – f5 = 0```\n",
    "\n",
    "Note that the mass balance for each metabolite contains corresponding stoichiometric coefficient, e.g. 0.5 is stoichiometric coefficient of M2 in reaction 2 (corresponding to f2).\n",
    "\n",
    "So, we have the following linear system (```A.f = b```):\n",
    "\n",
    "![alt text](4.png)\n",
    "\n",
    "This particular example can be solved manually, and you would get ```f2 = 1, f4 = 0``` and  ```f5 = 0.5```. Using Python, you can use ```numpy.linalg.solve``` to solve a linear set of equations and find the solutions to ```f2, f4``` and ```f5```, as below:"
   ]
  },
  {
   "cell_type": "code",
   "execution_count": 4,
   "metadata": {
    "collapsed": false
   },
   "outputs": [
    {
     "name": "stdout",
     "output_type": "stream",
     "text": [
      "A=\n",
      "[[ 1.   0.   0. ]\n",
      " [ 0.5 -1.   0. ]\n",
      " [ 0.5  0.  -1. ]]\n",
      "b=\n",
      "[[ 1. ]\n",
      " [ 0.5]\n",
      " [ 0. ]]\n",
      "f2= [ 1.]\n",
      "f4= [-0.]\n",
      "f5= [ 0.5]\n"
     ]
    }
   ],
   "source": [
    "# Define A and b as above\n",
    "A = np.array([[1, 0, 0],\n",
    "             [0.5, -1, 0],\n",
    "             [0.5, 0, -1]])\n",
    "b = np.array([[1],\n",
    "             [0.5],\n",
    "             [0]])\n",
    "print('A=')\n",
    "print(A)\n",
    "print('b=')\n",
    "print(b)\n",
    "\n",
    "# Solve set of linear equations\n",
    "f = np.linalg.solve(A, b)\n",
    "print 'f2=',f[0]\n",
    "print 'f4=',f[1]\n",
    "print 'f5=',f[2]"
   ]
  },
  {
   "cell_type": "markdown",
   "metadata": {},
   "source": [
    "## Exercise 1 - The diet problem"
   ]
  },
  {
   "cell_type": "markdown",
   "metadata": {},
   "source": [
    "Suppose that the only food items available to buy are potatoes and chicken. The decision about how much of each food to buy is to be made entirely on dietary and economic considerations. We have the nutritional and cost information in the following table:\n",
    "\n",
    "![alt text](5.png)"
   ]
  },
  {
   "cell_type": "markdown",
   "metadata": {},
   "source": [
    "The problem is to find a diet (a choice of the numbers of units of the two foods) that meets all minimum nutritional requirements at minimal cost. Formulate the problem as a linear programming problem (LPP). Do the calculations by using graphical method (by hand) and verify your results by using the function ```scipy.optimize.linprog```.\n",
    "\n",
    "Note: Do not forget to import scipy!"
   ]
  },
  {
   "cell_type": "markdown",
   "metadata": {},
   "source": [
    "### Solution\n",
    "\n",
    "The given optimization problem can be stated as follows:\n",
    "\n",
    "![alt text](6.png)\n",
    "\n",
    "where ```x```is the number of potato units and ```y```is the number of chicken units.\n",
    "\n",
    "*Graphical method:*\n",
    "\n",
    "The feasible region and the corner points corresponding with the given constraints are shown in the following figure. Since the problem is that of linear programming, the optimal solution can be found at one of the corner points. In this case, we find that the optimal solution lies at the corner point ```(4, 1)``` with optimal ```cost = 150```.\n",
    "\n",
    "![alt text](7.png)\n",
    "\n",
    "*With Python using scipy.optimize.linprog:*\n",
    "\n",
    "(See the online documentation of ```scipy``` for the details of the usage syntax of the function). \n",
    "\n",
    "We have a minimization problem with inequality constraints. Since ```scipy.optimize.linprog``` is expecting ```<=``` type of inequality constraints, we will multiply the coefficient matrix and b vector by -1 in order to convert our ```>=``` constraints to ```<=```."
   ]
  },
  {
   "cell_type": "code",
   "execution_count": 5,
   "metadata": {
    "collapsed": false
   },
   "outputs": [
    {
     "name": "stdout",
     "output_type": "stream",
     "text": [
      "f=\n",
      "[25 50]\n",
      "Dimensions of f:\n",
      "(2,)\n",
      "A=\n",
      "[[3 1]\n",
      " [4 3]\n",
      " [1 3]]\n",
      "Dimensions of A:\n",
      "(3, 2)\n",
      "b=\n",
      "[ 8 19  7]\n",
      "sln=\n",
      "     fun: 150.0\n",
      " message: 'Optimization terminated successfully.'\n",
      "     nit: 3\n",
      "   slack: array([ 5.,  0.,  0.])\n",
      "  status: 0\n",
      " success: True\n",
      "       x: array([ 4.,  1.])\n",
      "Note: fun is the f evaluated at x.\n"
     ]
    }
   ],
   "source": [
    "f = np.array([25, 50])\n",
    "A = np.array([[3, 1],\n",
    "             [4, 3],\n",
    "             [1, 3]])\n",
    "b = np.array([8, 19, 7])\n",
    "print('f=')\n",
    "print(f)\n",
    "print('Dimensions of f:')\n",
    "print(np.shape(f))\n",
    "print('A=')\n",
    "print(A)\n",
    "print('Dimensions of A:')\n",
    "print(np.shape(A))\n",
    "print('b=')\n",
    "print(b)\n",
    "\n",
    "import scipy as sp\n",
    "from scipy import optimize\n",
    "\n",
    "sln = sp.optimize.linprog(f, -A, -b)\n",
    "print('sln=')\n",
    "print(sln)\n",
    "print('Note: fun is the f evaluated at x.')"
   ]
  },
  {
   "cell_type": "markdown",
   "metadata": {},
   "source": [
    "## Exercise 2 - Optimal distribution\n",
    "\n",
    "A certain compound ```M``` can enter into yeast cells at the maximum rate of 2. Compound ```M``` can be treated either in cytosol or in mitochondria. Due to transport limitations, ```f2``` can not be higher than 1. Growth advantage for yeast due to ```M``` is given by (```f1 + 10f2```). Determine the optimal value of the profit function and corresponding values of ```f1``` and ```f2```.\n",
    "\n",
    "![alt text](8.png)"
   ]
  },
  {
   "cell_type": "markdown",
   "metadata": {},
   "source": [
    "### Solution\n",
    "\n",
    "*Objective function:* Maximize ```f```\n",
    "```\n",
    "f = f1 + 10f2\n",
    "```\n",
    "\n",
    "*Constraints:*\n",
    "\n",
    "```\n",
    "f1 + f2 <= 2\n",
    "f2 <= 1\n",
    "```\n",
    "\n",
    "The feasible space is shown in the following figure:\n",
    "\n",
    "![alt text](9.png)\n",
    "\n",
    "Since both the objective function and constraints are linear, the optimal solution will lie at one of the corners of the feasible region. \n",
    "\n",
    "The corner point \n",
    "```\n",
    "f1 = 1, f2 = 1\n",
    "```\n",
    "gives the best objective function value, ```(1,1)```, and hence is the solution to the problem.\n"
   ]
  },
  {
   "cell_type": "markdown",
   "metadata": {},
   "source": [
    "## Exercise 3 - a simple metabolic network\n",
    "\n",
    "Following figure shows a toy metabolic network. \n",
    "\n",
    "![alt text](10.png)\n",
    "\n",
    "The network is capable of converting substrate ```S``` into product ```P``` and/or into biomass ```X```. The stoichiometry of each of the reactions in the network is given below.\n",
    "\n",
    "1.\tR1:\t```S = 0```\n",
    "2.\tR2: ```- S + A = 0```\n",
    "3.\tR3:\t```- S + B = 0```\n",
    "4.\tR4:\t```- S + C = 0```\n",
    "5.\tR5:\t```- A + D = 0```\n",
    "6.\tR6:\t```- B + D = 0```\n",
    "7.\tR7:\t```- C + P = 0```\n",
    "8.\tR8:\t```- P = 0```\n",
    "9.\tR9:\t```- P - D + 2 X = 0```\n",
    "10.\tR10: ```- X = 0```\n",
    "\n",
    "a. How many fluxes do we need to know values of before we have a completely determined linear equation system?\n",
    "\n",
    "b. If ```f1 = 1```, ```f2 = 0.25``` and ```f3 = 0.25```, what will be the rate of production of product and biomass (i.e. ```f8``` and ```f10```)?  What will be the effect of changing ```f3``` to zero?\n",
    "\n",
    "c. If the only available information is ```f1 = 1```, what will be the maximum possible rate of product and biomass formation? (Use linear programming formulation). \n",
    "\n",
    "d. Consider the flux distribution obtained in the above sub-question in case of maximization of ```f10```. Is the solution obtained unique? Suggest and implement a method to verify whether the obtained solution is unique."
   ]
  },
  {
   "cell_type": "markdown",
   "metadata": {},
   "source": [
    "### Solutions\n",
    "\n",
    "##### a. "
   ]
  },
  {
   "cell_type": "code",
   "execution_count": 6,
   "metadata": {
    "collapsed": false
   },
   "outputs": [
    {
     "name": "stdout",
     "output_type": "stream",
     "text": [
      "S =\n",
      "[[ 1 -1 -1 -1  0  0  0  0  0  0]\n",
      " [ 0  1  0  0 -1  0  0  0  0  0]\n",
      " [ 0  0  1  0  0 -1  0  0  0  0]\n",
      " [ 0  0  0  1  0  0 -1  0  0  0]\n",
      " [ 0  0  0  0  1  1  0  0 -1  0]\n",
      " [ 0  0  0  0  0  0  1 -1 -1  0]\n",
      " [ 0  0  0  0  0  0  0  0  2 -1]]\n"
     ]
    }
   ],
   "source": [
    "S = np.array([[1,-1,-1,-1,0,0,0,0,0,0],\n",
    "             [0,1,0,0,-1,0,0,0,0,0],\n",
    "             [0,0,1,0,0,-1,0,0,0,0],\n",
    "             [0,0,0,1,0,0,-1,0,0,0],\n",
    "             [0,0,0,0,1,1,0,0,-1,0],\n",
    "             [0,0,0,0,0,0,1,-1,-1,0],\n",
    "             [0,0,0,0,0,0,0,0,2,-1]])\n",
    "print('S =')\n",
    "print(S)"
   ]
  },
  {
   "cell_type": "markdown",
   "metadata": {},
   "source": [
    "Number of fluxes required to be known = Degrees of freedom \n",
    "\n",
    "= Total number of fluxes – rank(S) "
   ]
  },
  {
   "cell_type": "code",
   "execution_count": 7,
   "metadata": {
    "collapsed": false
   },
   "outputs": [
    {
     "name": "stdout",
     "output_type": "stream",
     "text": [
      "rank(S) = \n",
      "7\n"
     ]
    }
   ],
   "source": [
    "print('rank(S) = ')\n",
    "print(np.linalg.matrix_rank(S))"
   ]
  },
  {
   "cell_type": "markdown",
   "metadata": {},
   "source": [
    "Number of fluxes required to be known = 10 – 7 = 3"
   ]
  },
  {
   "cell_type": "markdown",
   "metadata": {},
   "source": [
    "#### b."
   ]
  },
  {
   "cell_type": "code",
   "execution_count": 8,
   "metadata": {
    "collapsed": false
   },
   "outputs": [
    {
     "name": "stdout",
     "output_type": "stream",
     "text": [
      "A =\n",
      "[[-1  0  0  0  0  0  0]\n",
      " [ 0 -1  0  0  0  0  0]\n",
      " [ 0  0 -1  0  0  0  0]\n",
      " [ 1  0  0 -1  0  0  0]\n",
      " [ 0  1  1  0  0 -1  0]\n",
      " [ 0  0  0  1 -1 -1  0]\n",
      " [ 0  0  0  0  0  2 -1]]\n",
      "b =\n",
      "[-0.5  -0.25 -0.25  0.    0.    0.    0.  ]\n",
      "x =\n",
      "[ 0.5   0.25  0.25  0.5  -0.    0.5   1.  ]\n"
     ]
    }
   ],
   "source": [
    "A = S[:,3:]\n",
    "print('A =')\n",
    "print(A)\n",
    "b = np.dot(-S,np.transpose([1,0.25,0.25,0,0,0,0,0,0,0]))\n",
    "print('b =')\n",
    "print(b)\n",
    "x = np.linalg.solve(A, b)\n",
    "print('x =')\n",
    "print x"
   ]
  },
  {
   "cell_type": "markdown",
   "metadata": {},
   "source": [
    "Hence, ```f8 = 0``` and ```f10 = 1```.\n",
    "\n",
    "If ```f3 = 0```, we can solve it in the same way as above giving: f```8 = 0.5``` and ```f10 = 0.5```."
   ]
  },
  {
   "cell_type": "markdown",
   "metadata": {},
   "source": [
    "#### c.\n",
    "\n",
    "Maximum biomass = 1"
   ]
  },
  {
   "cell_type": "code",
   "execution_count": 9,
   "metadata": {
    "collapsed": false,
    "scrolled": false
   },
   "outputs": [
    {
     "name": "stdout",
     "output_type": "stream",
     "text": [
      "beq =\n",
      "[[ 0.  0.  0.  0.  0.  0.  0.]]\n",
      "Aeq =\n",
      "[[ 1 -1 -1 -1  0  0  0  0  0  0]\n",
      " [ 0  1  0  0 -1  0  0  0  0  0]\n",
      " [ 0  0  1  0  0 -1  0  0  0  0]\n",
      " [ 0  0  0  1  0  0 -1  0  0  0]\n",
      " [ 0  0  0  0  1  1  0  0 -1  0]\n",
      " [ 0  0  0  0  0  0  1 -1 -1  0]\n",
      " [ 0  0  0  0  0  0  0  0  2 -1]]\n",
      "Dimensions of Aeq:\n",
      "(7, 10)\n",
      "f =\n",
      "[0 0 0 0 0 0 0 0 0 1]\n",
      "Dimensions of f:\n",
      "(10,)\n",
      "x =\n",
      "     fun: -1.0\n",
      " message: 'Optimization terminated successfully.'\n",
      "     nit: 10\n",
      "   slack: array([   0. ,   99.5,  100. ,   99.5,   99.5,  100. ,   99.5,  100. ,\n",
      "         99.5,   99. ,    0. ])\n",
      "  status: 0\n",
      " success: True\n",
      "       x: array([ 1. ,  0.5,  0. ,  0.5,  0.5,  0. ,  0.5,  0. ,  0.5,  1. ])\n"
     ]
    }
   ],
   "source": [
    "beq = np.zeros((1,7))\n",
    "print('beq =')\n",
    "print(beq)\n",
    "Aeq = S\n",
    "print('Aeq =')\n",
    "print(Aeq)\n",
    "print('Dimensions of Aeq:')\n",
    "print(np.shape(Aeq))\n",
    "f = np.array([0,0,0,0,0,0,0,0,0,1])\n",
    "print('f =')\n",
    "print(f)\n",
    "print('Dimensions of f:')\n",
    "print(np.shape(f))\n",
    "# LB and UP for each\n",
    "B_x1 = (1,1)\n",
    "B_x2 = (0,100)\n",
    "B_x3 = (0,100)\n",
    "B_x4 = (0,100)\n",
    "B_x5 = (0,100)\n",
    "B_x6 = (0,100)\n",
    "B_x7 = (0,100)\n",
    "B_x8 = (0,100)\n",
    "B_x9 = (0,100)\n",
    "B_x10 = (0,100)\n",
    "x = sp.optimize.linprog(-f, A_eq=Aeq, b_eq=beq, bounds=(B_x1, B_x2, B_x3, B_x4, B_x5, B_x6, B_x7, B_x8, B_x9, B_x10))\n",
    "print('x =')\n",
    "print(x)"
   ]
  },
  {
   "cell_type": "markdown",
   "metadata": {},
   "source": [
    "Similarly, Maximum product = 1"
   ]
  },
  {
   "cell_type": "markdown",
   "metadata": {},
   "source": [
    "#### d.\n",
    "\n",
    "The solution obtained in the above sub-question for biomass maximization is not unique. This can be seen by considering the fact that any flux split between ```f2``` and ```f3``` will lead to the same solution as long as their sum is constant. One way to detect whether a solution is unique or not is illustrated by the following algorithm.\n",
    "\n",
    "1. Fix the value of ```f10``` to its optimal value (i.e. in this case 1) by fixing its upper and lower bounds.\n",
    "2. For each flux, obtain the maximum and minimum value for that flux by using linear programming (two LP problems one of minimization and one maximization).\n",
    "3. If the maximum and minimum value for any of the fluxes is not equal, it will mean that we will have alternate optimal solution(s) (non-unique flux distribution).\n",
    "\n",
    "The above algorithm can be implemented in Python by using a *for loop*."
   ]
  },
  {
   "cell_type": "markdown",
   "metadata": {},
   "source": [
    "### Exercise 4 - Multiple optima\n",
    "\n",
    "Illustrate, by using a simple reaction network, that linear programming can give optimal flux distribution under steady state, but there may be multiple solutions."
   ]
  },
  {
   "cell_type": "markdown",
   "metadata": {},
   "source": [
    "### Solution\n",
    "\n",
    "![alt text](12.png)\n",
    "\n",
    "Linear program does not necessarily provide a unique solution, as many different flux vectors can result into the same (optimal) value of the objective function. For example, the optimal value of flux ```f4``` (which will be equal to ```f1```) can be obtained with many combinations of values for ```f2``` and ```f3```."
   ]
  },
  {
   "cell_type": "markdown",
   "metadata": {},
   "source": [
    "## Exercise 5 - Another small reaction model\n",
    "\n",
    "Central metabolism of an antibiotic producing fungus is shown in a simplified format in the following sketch. \n",
    "\n",
    "![alt text](13.png)\n",
    "\n",
    "Set up a flux balance model for this system by using Python. Assume that the maximum possible rate of substrate uptake (```v1```) is 1. Unless and otherwise stated differently, assume steady state for all intra-cellular metabolites.\n",
    "\n",
    "i) What is the maximal production rate of Biomass (```X```)? What is the flux distribution in this case?\n",
    "\n",
    "ii) Is the flux solution obtained in (i) unique? If not, identify at least one more optimal solution.\n",
    "\n",
    "iii) What are the maximal production rates for the metabolites ```C``` ad ```D```?\n",
    "\n",
    "iv) Prepare a plot showing the relationship between the maximum biomass formation rate (```v11```) and rate of secretion of D. If D is the product of interest, calculate the maximum productivity (```v11*v5```) that can be achieved by using this organism.\n",
    "\n",
    "v) Dr. Highthroughput is interested in studying deletion phenotypes of all single gene deletion mutants in this organism. However, due to restrictions on time and money available, he wishes to minimize the number of genes without loosing much information. What set of genes will be your suggestion to him for not to delete? "
   ]
  },
  {
   "cell_type": "markdown",
   "metadata": {},
   "source": [
    "### Solution"
   ]
  },
  {
   "cell_type": "code",
   "execution_count": 10,
   "metadata": {
    "collapsed": false
   },
   "outputs": [
    {
     "name": "stdout",
     "output_type": "stream",
     "text": [
      "S = \n",
      "[[ 1 -1 -1  0  0  0  0  0  0  0  0]\n",
      " [ 0  1  0  0  0  0  0 -1 -1  0  0]\n",
      " [ 0  0  1 -1  0 -1  0  0  0  0  0]\n",
      " [ 0  0  0  0 -1  1 -1  0  0  0  0]\n",
      " [ 0  0  0  0  0  0  0  1  0 -1  0]\n",
      " [ 0  0  0  0  0  0  1  0  1  1 -1]\n",
      " [-1  0  0  0  0  1  1  1  1  0  0]\n",
      " [ 1  0  0  0  0 -1 -1 -1 -1  0  0]]\n",
      "A B C D E X ATP ADP as rows, from top to bottom.\n",
      "V1 V2 V3 V4 V5 V6 V7 V8 V9 V10 V11 as columns, left to right.\n",
      "f =\n",
      "[ 0  0  0  0  0  0  0  0  0  0 -1]\n",
      "Aeq =\n",
      "[[ 1 -1 -1  0  0  0  0  0  0  0  0]\n",
      " [ 0  1  0  0  0  0  0 -1 -1  0  0]\n",
      " [ 0  0  1 -1  0 -1  0  0  0  0  0]\n",
      " [ 0  0  0  0 -1  1 -1  0  0  0  0]\n",
      " [ 0  0  0  0  0  0  0  1  0 -1  0]\n",
      " [ 0  0  0  0  0  0  1  0  1  1 -1]\n",
      " [-1  0  0  0  0  1  1  1  1  0  0]\n",
      " [ 1  0  0  0  0 -1 -1 -1 -1  0  0]]\n",
      "beq =\n",
      "[0 0 0 0 0 0 0 0]\n",
      "x =\n",
      "     fun: -1.0\n",
      " message: 'Optimization terminated successfully.'\n",
      "     nit: 10\n",
      "   slack: array([    0.,   999.,  1000.,  1000.,  1000.,  1000.,  1000.,  1000.,\n",
      "         999.,  1000.,   999.,     0.])\n",
      "  status: 0\n",
      " success: True\n",
      "       x: array([ 1.,  1.,  0.,  0.,  0.,  0.,  0.,  0.,  1.,  0.,  1.])\n"
     ]
    }
   ],
   "source": [
    "# stoichiometric matrix\n",
    "S = np.array([[1,-1,-1,0,0,0,0,0,0,0,0],\n",
    "             [0,1,0,0,0,0,0,-1,-1,0,0],\n",
    "             [0,0,1,-1,0,-1,0,0,0,0,0],\n",
    "             [0,0,0,0,-1,1,-1,0,0,0,0],\n",
    "             [0,0,0,0,0,0,0,1,0,-1,0],\n",
    "             [0,0,0,0,0,0,1,0,1,1,-1],\n",
    "             [-1,0,0,0,0,1,1,1,1,0,0],\n",
    "             [1,0,0,0,0,-1,-1,-1,-1,0,0]]) # stoichiom matrix\n",
    "print('S = ')\n",
    "print(S)\n",
    "print('A B C D E X ATP ADP as rows, from top to bottom.')\n",
    "print('V1 V2 V3 V4 V5 V6 V7 V8 V9 V10 V11 as columns, left to right.')\n",
    "\n",
    "# obj fun with max biomass\n",
    "f = np.array([0,0,0,0,0,0,0,0,0,0,-1])\n",
    "print('f =')\n",
    "print(f)\n",
    "\n",
    "# bounds\n",
    "bnds = ((1,1),(0,1000),(0,1000),(0,1000),(0,1000),(0,1000),(0,1000),(0,1000),(0,1000),(0,1000),(0,1000))\n",
    "\n",
    "# linear programming\n",
    "Aeq = S\n",
    "beq = np.array([0,0,0,0,0,0,0,0])\n",
    "print('Aeq =')\n",
    "print(Aeq)\n",
    "print('beq =')\n",
    "print(beq)\n",
    "\n",
    "x = sp.optimize.linprog(c=f, A_eq=Aeq, b_eq=beq, bounds=bnds)\n",
    "print('x =')\n",
    "print(x)\n"
   ]
  },
  {
   "cell_type": "markdown",
   "metadata": {},
   "source": [
    "#### i)\n",
    "\n",
    "Flux distribution should be \n",
    "\n",
    "| Rxn | vals   |\n",
    "| --- |:------:|\n",
    "| V1  | 1      |\n",
    "| V2  | 1      |\n",
    "| V3  | 0      |\n",
    "| V4  | 0      |\n",
    "| V5  | 0      |\n",
    "| V6  | 0      |\n",
    "| V7  | 0      |\n",
    "| V8  | 0.9883 |\n",
    "| V9  | 0.0117 |\n",
    "| V10 | 0.9883 |\n",
    "| V11 | 1      |     \n"
   ]
  },
  {
   "cell_type": "markdown",
   "metadata": {},
   "source": [
    "Note that due to the possibility of existence of multiple-optimal solutions, this flux distribution is not guaranteed to be unique. However, the objective function value is guaranteed to be optimal (=1)."
   ]
  },
  {
   "cell_type": "markdown",
   "metadata": {},
   "source": [
    "#### ii)\n",
    "\n",
    "The flux distribution obtained above is not unique as it can be observed from the network diagram that there are multiple ways to synthesize ```X```. To obtain another optimal solution, one can, e.g., set constraints for ```v8``` ```[0,0]``` and solve the new LPP.\n",
    "\n",
    "| Rxn | vals   |\n",
    "| --- |:------:|\n",
    "| V1  | 1      |\n",
    "| V2  | 1      |\n",
    "| V3  | 0      |\n",
    "| V4  | 0      |\n",
    "| V5  | 0      |\n",
    "| V6  | 0      |\n",
    "| V7  | 0      |\n",
    "| V8  | 0      |\n",
    "| V9  | 1      |\n",
    "| V10 | 0      |\n",
    "| V11 | 1      |     "
   ]
  },
  {
   "cell_type": "markdown",
   "metadata": {},
   "source": [
    "#### iii)\n",
    "\n",
    "The maximum production rates for ```C``` and ```D``` are 0.5 and 1, respectively, and can be obtained by maximizing for ```v4``` (C) or ```v5`` (D)."
   ]
  },
  {
   "cell_type": "markdown",
   "metadata": {},
   "source": [
    "#### iv)\n",
    "\n",
    "See the chart below. \n",
    "\n",
    "![alt text](14.png)\n",
    "\n",
    "The results are obtained by constraining lower and upper bounds of ```v11``` at different values between 0 and 1 (maximum possible value for ```v11```) and then maximizing for ```v5```. The optimal value for the productivity (0.25) lies at ```v5 = 1```, ```v11 = 0.5```. Also note that ```v5 = 1-v11``` and thus these two fluxes directly compete for the substrate."
   ]
  },
  {
   "cell_type": "markdown",
   "metadata": {},
   "source": [
    "#### v)\n",
    "\n",
    "It may be suggested that the genes corresponding to the essential reactions in the model should not be attempted to be deleted. These essential reactions can be obtained from our FBA model (set lower and upper bounds for a reaction to 0 and then check whether biomass production is zero) and are listed below.\n",
    "\n",
    "```\n",
    "v1, v11\n",
    "```\n"
   ]
  },
  {
   "cell_type": "markdown",
   "metadata": {},
   "source": [
    "## Introduction to COBRApy\n",
    "\n",
    "COBRApy is a Python package for constraint-based modelling of biological networks.\n",
    "\n",
    "The example below is a short introduction ot COBRApy. Another good source is the cobrapy documentation: \n",
    "\n",
    "https://cobrapy.readthedocs.io/en/latest/getting_started.html"
   ]
  },
  {
   "cell_type": "markdown",
   "metadata": {},
   "source": [
    "### Example 3\n",
    "\n",
    "To begin with, let's get and load a model. \n",
    "\n",
    "We will work with a condensed version of the genome-scale *E. coli* reconstruction, which contains central metabolism reactions. The network contains 62 internal reactions, 14 exchange reactions and a biomass objective function. It can be downloaded from the link below:\n",
    "\n",
    "http://systemsbiology.ucsd.edu/InSilicoOrganisms/Ecoli/EcoliSBML\n",
    "\n",
    "Save the file in the working directory.\n",
    "\n",
    "Next we load it:"
   ]
  },
  {
   "cell_type": "code",
   "execution_count": 11,
   "metadata": {
    "collapsed": true
   },
   "outputs": [],
   "source": [
    "# import function to read sbml files\n",
    "from cobra.io import read_sbml_model\n",
    "\n",
    "# define model\n",
    "ecoli_sbml_file = 'Ec_core_flux1.xml'\n",
    "ecoli_model = read_sbml_model(ecoli_sbml_file)"
   ]
  },
  {
   "cell_type": "markdown",
   "metadata": {},
   "source": [
    "The reactions, metabolites, and genes are attributes of the model variable, and you can access them using the dot notation as follows: "
   ]
  },
  {
   "cell_type": "code",
   "execution_count": 12,
   "metadata": {
    "collapsed": false
   },
   "outputs": [
    {
     "name": "stdout",
     "output_type": "stream",
     "text": [
      "77\n",
      "63\n",
      "101\n",
      "[<Reaction ACKr at 0x11b687c50>, <Reaction ACONT at 0x11b687c10>, <Reaction ACt2r at 0x11b687c90>, <Reaction ADHEr at 0x11b687d50>, <Reaction ADK1 at 0x11b687e50>, <Reaction AKGDH at 0x11b687f10>, <Reaction AKGt2r at 0x11b687e90>, <Reaction ATPM at 0x11b687e10>, <Reaction ATPS4r at 0x11b687bd0>, <Reaction Biomass_Ecoli_core_N__w_GAM_ at 0x11b69f150>, <Reaction CO2t at 0x11b69f090>, <Reaction CS at 0x11b69f350>, <Reaction CYTBD at 0x11b69f2d0>, <Reaction D_LACt2 at 0x11b69f410>, <Reaction ENO at 0x11b69f450>, <Reaction ETOHt2r at 0x11b69f390>, <Reaction EX_ac_e_ at 0x11b69f5d0>, <Reaction EX_akg_e_ at 0x11b69f3d0>, <Reaction EX_co2_e_ at 0x11b69fad0>, <Reaction EX_etoh_e_ at 0x11b69fb10>, <Reaction EX_for_e_ at 0x11b69fb90>, <Reaction EX_fum_e_ at 0x11b69fbd0>, <Reaction EX_glc_e_ at 0x11b69fc10>, <Reaction EX_h2o_e_ at 0x11b69fc50>, <Reaction EX_h_e_ at 0x11b69fc90>, <Reaction EX_lac_D_e_ at 0x11b69fd10>, <Reaction EX_o2_e_ at 0x11b69fd50>, <Reaction EX_pi_e_ at 0x11b69fd90>, <Reaction EX_pyr_e_ at 0x11b69fe10>, <Reaction EX_succ_e_ at 0x11b69fe50>, <Reaction FBA at 0x11b69fed0>, <Reaction FBP at 0x11b69ff10>, <Reaction FORt at 0x11b69fe90>, <Reaction FRD at 0x11b69f990>, <Reaction FUM at 0x11b69ffd0>, <Reaction FUMt2_2 at 0x11b6b3250>, <Reaction G6PDH2r at 0x11b6b31d0>, <Reaction GAPD at 0x11b6b3190>, <Reaction GLCpts at 0x11b6b32d0>, <Reaction GND at 0x11b6b3390>, <Reaction H2Ot at 0x11b6b36d0>, <Reaction ICDHyr at 0x11b6b3650>, <Reaction ICL at 0x11b6b35d0>, <Reaction LDH_D at 0x11b6b3a50>, <Reaction MALS at 0x11b6b37d0>, <Reaction MDH at 0x11b6b3ad0>, <Reaction ME1 at 0x11b6b3bd0>, <Reaction ME2 at 0x11b6b3cd0>, <Reaction NADH11 at 0x11b6b3c50>, <Reaction NADTRHD at 0x11b6b3e90>, <Reaction O2t at 0x11b6b3f50>, <Reaction PDH at 0x11b6c5110>, <Reaction PFK at 0x11b6c5210>, <Reaction PFL at 0x11b6c5390>, <Reaction PGI at 0x11b6c5950>, <Reaction PGK at 0x11b6c59d0>, <Reaction PGL at 0x11b6c5810>, <Reaction PGM at 0x11b6c5c50>, <Reaction PIt at 0x11b6c5d50>, <Reaction PPC at 0x11b6c5f10>, <Reaction PPCK at 0x11b6c5ed0>, <Reaction PPS at 0x11b6c5fd0>, <Reaction PTAr at 0x11b6c5850>, <Reaction PYK at 0x11b6d2110>, <Reaction PYRt2r at 0x11b6d21d0>, <Reaction RPE at 0x11b6d2350>, <Reaction RPI at 0x11b6d2290>, <Reaction SUCCt2_2 at 0x11b6d2490>, <Reaction SUCCt2b at 0x11b6d26d0>, <Reaction SUCD1i at 0x11b6d2690>, <Reaction SUCD4 at 0x11b6d2790>, <Reaction SUCOAS at 0x11b6d28d0>, <Reaction TALA at 0x11b6d2950>, <Reaction THD2 at 0x11b6d2910>, <Reaction TKT1 at 0x11b6d2990>, <Reaction TKT2 at 0x11b6d2b90>, <Reaction TPI at 0x11b6d2fd0>]\n"
     ]
    }
   ],
   "source": [
    "# print the number of reactions, metabolites and genes\n",
    "print(len(ecoli_model.reactions))\n",
    "print(len(ecoli_model.metabolites))\n",
    "print(len(ecoli_model.genes))\n",
    "\n",
    "# print all the reactions\n",
    "print(ecoli_model.reactions)"
   ]
  },
  {
   "cell_type": "markdown",
   "metadata": {},
   "source": [
    "Genes, reactions and metabolites are a special type of list called a DictList. "
   ]
  },
  {
   "cell_type": "code",
   "execution_count": 13,
   "metadata": {
    "collapsed": false
   },
   "outputs": [
    {
     "name": "stdout",
     "output_type": "stream",
     "text": [
      "<class 'cobra.core.DictList.DictList'>\n"
     ]
    }
   ],
   "source": [
    "print(type(ecoli_model.reactions))"
   ]
  },
  {
   "cell_type": "markdown",
   "metadata": {},
   "source": [
    "Objects in a DictList can be retrived by index. For example, to get the 30th reaction in the model (at index 29 because of 0-indexing) you would type:"
   ]
  },
  {
   "cell_type": "code",
   "execution_count": 14,
   "metadata": {
    "collapsed": false
   },
   "outputs": [
    {
     "data": {
      "text/plain": [
       "<Reaction EX_succ_e_ at 0x11b69fe50>"
      ]
     },
     "execution_count": 14,
     "metadata": {},
     "output_type": "execute_result"
    }
   ],
   "source": [
    "ecoli_model.reactions[29]"
   ]
  },
  {
   "cell_type": "markdown",
   "metadata": {},
   "source": [
    "Items can also be retrived by their id, using the `get_by_id() function`. For example, to get the cytosolic atp metabolite object (the id is “atp_c”), we can do the following:"
   ]
  },
  {
   "cell_type": "code",
   "execution_count": 15,
   "metadata": {
    "collapsed": false
   },
   "outputs": [
    {
     "data": {
      "text/plain": [
       "<Metabolite atp_c at 0x11b673e10>"
      ]
     },
     "execution_count": 15,
     "metadata": {},
     "output_type": "execute_result"
    }
   ],
   "source": [
    "ecoli_model.metabolites.get_by_id(\"atp_c\")"
   ]
  },
  {
   "cell_type": "markdown",
   "metadata": {},
   "source": [
    "Users with an interactive shell will be able to tab-complete to list elements inside a list. This is very useful while in an interactive prompt, as you can see the possible actions you can do:\n",
    "\n",
    "![alt text](16.png)"
   ]
  },
  {
   "cell_type": "markdown",
   "metadata": {},
   "source": [
    "Now, you can, for example, view the full name of a reaction, or the equation, or the model objective:"
   ]
  },
  {
   "cell_type": "code",
   "execution_count": 16,
   "metadata": {
    "collapsed": false
   },
   "outputs": [
    {
     "name": "stdout",
     "output_type": "stream",
     "text": [
      "R_glucose_6_phosphate_isomerase\n",
      "g6p_c <=> f6p_c\n",
      "-999999.0\n",
      "0.0\n",
      "atp_c\n",
      "-4\n",
      "{<Reaction Biomass_Ecoli_core_N__w_GAM_ at 0x11b69f150>: 1.0}\n"
     ]
    }
   ],
   "source": [
    "# reaction glucose 6-phosphate isomerase, which interconverts glucose 6-phosphate and fructose 6-phosphate\n",
    "R1 = ecoli_model.reactions.get_by_id(\"PGI\")\n",
    "print(R1.name)\n",
    "print(R1.reaction)\n",
    "print(R1.lower_bound)\n",
    "print(R1.objective_coefficient)\n",
    "\n",
    "# cytosolic atp \n",
    "atp = ecoli_model.metabolites.get_by_id(\"atp_c\")\n",
    "print(atp)\n",
    "print(atp.charge)\n",
    "\n",
    "# model objective\n",
    "print(ecoli_model.objective)"
   ]
  },
  {
   "cell_type": "markdown",
   "metadata": {},
   "source": [
    "Exploring the methods of each DictList, you can, for example, add a new reaction, etc:"
   ]
  },
  {
   "cell_type": "code",
   "execution_count": 17,
   "metadata": {
    "collapsed": false
   },
   "outputs": [
    {
     "name": "stdout",
     "output_type": "stream",
     "text": [
      "unknown metabolite 'green_eggs' created\n",
      "unknown metabolite 'ham' created\n"
     ]
    }
   ],
   "source": [
    "# add a reaction\n",
    "R1.reaction = \"g6p_c --> f6p_c + h_c + green_eggs + ham\"\n"
   ]
  },
  {
   "cell_type": "markdown",
   "metadata": {},
   "source": [
    "Simulations using flux balance analysis can be solved using the function `optimize. This will maximize or minimize (maximizing is the default) flux through the objective reactions."
   ]
  },
  {
   "cell_type": "code",
   "execution_count": 18,
   "metadata": {
    "collapsed": false
   },
   "outputs": [
    {
     "name": "stdout",
     "output_type": "stream",
     "text": [
      "<Solution 0.86 at 0x10d9a4b50>\n",
      "0.861407412954\n",
      "optimal\n"
     ]
    }
   ],
   "source": [
    "# import library for data analysis\n",
    "import pandas\n",
    "pandas.options.display.max_rows = 100\n",
    "\n",
    "# import model again\n",
    "# define model\n",
    "ecoli_sbml_file = 'Ec_core_flux1.xml'\n",
    "ecoli_model = read_sbml_model(ecoli_sbml_file)\n",
    "\n",
    "# optimise model\n",
    "print(ecoli_model.optimize())\n",
    "print(ecoli_model.solution.f)\n",
    "print(ecoli_model.solution.status)"
   ]
  },
  {
   "cell_type": "markdown",
   "metadata": {},
   "source": [
    "Note that the solution is stored at ecoli.solution and it has several attributes.\n",
    "\n",
    "For more examples on using COBRApy, we refert the reader to the COBRApy doc:\n",
    "\n",
    "https://cobrapy.readthedocs.io/en/latest/getting_started.html\n"
   ]
  },
  {
   "cell_type": "markdown",
   "metadata": {},
   "source": [
    "\n",
    "# Exercise 6 - Prediction of growth phenotypes of gene deletion mutants\n",
    "\n",
    "In this exercise, we will use a genome-scale models (GEM) of yeast metabolism, a robust, well curated, iFF708 (Forster et al. 2003, see Appendix), covering 1379 reactions corresponding to 619 genes and 796 metabolites.\n",
    "\n",
    "The resulting large linear models can be efficiently solved, thanks to the power of linear programming solvers such as glpk and CPLEX. Here, we will use the cglpk solver accessed via COBRApy.\n",
    "\n",
    "GEMs allow simulating growth phenotype as they include a linear reaction representing synthesis of new cells. This reaction, often termed growth reaction, combines macromolecular components (DNA, lipids, proteins etc.) and the needed energy and redox cofactors in appropriate proportions (ideally based on experimental data) towards synthesis of new biomass. The model also includes reactions for nutrient uptake and product secretion. When nutrient uptakes are constrained within, say, experimentally determined values, a linear programming problem maximizing growth reaction can predict the expected growth rate (or rather growth yield) of the cell in question. This problem (incl. its many variants) is commonly referred to as flux balance analysis (FBA, see Orth et al. 2010 in the appendix). Simulation of the effects of genetic perturbations is then possible by using the gene-protein-reaction association rules accompanying the model.\n",
    "\n",
    "1. Using the given yeast model, identify the growth phenotypes of all single gene deletion mutants. Perform this for the iFF708 model on minimal medium under aerobic conditions. Medium conditions are accounted for by appropriately constraining the nutrient uptake reactions). We provide below a function to change the medium conditions. In the exercises below, try to think about and answer the following questions:\n",
    "    - How many genes are essential for growth? \n",
    "    - How does this result compare with experimentally determined phenotypes (you can find these at yeastgenome.org)? \n",
    "    - How many reactions in the models are affected by the gene deletions? \n",
    "    - How many gene knock outs show decreased fitness (i.e. decreased simulated maximum specific growth rate)? \n",
    "    - Plot histograms of ratios of knock out growth rate and wt growth rate, study the results.\n",
    "\n",
    "2. Repeat the simulations for iFF708 model using aerobic rich (ypd) medium conditions and anaerobic minimal medium conditions. Compare the results from 1. and 2. and discuss their correspondence with your expectations.\n",
    "\n",
    "3. Same as for genes, one can simulate effect of deletion of whole reaction. Under minimal medium, anaerobic conditions, identify which REACTIONS are essential for ethanol production in yeast.\n",
    "\n",
    "**Specific functions and models provided:**\n",
    "\n",
    "*Models in SBML format:* iFF708_COBRA.xml\n",
    "*Function to set up conditions:* setupConditions\n",
    "\n",
    "    **Workflow:**\n",
    "\n",
    "1. Import a library for data analysis, we recommend `pandas`\n",
    "2. Import the function `read_legacy_sbml` from the `cobra.io` library\n",
    "3. Import the iFF708 yeast model in SBML format\n",
    "4. Specify the solver to be cglpk\n",
    "5. Import the function `single_gene_deletion` from the `cobra.flux_analysis` library, to simulate genes and reactions deletions\n",
    "\n",
    "    **Ex1.**\n",
    "\n",
    "6. Set up the simulation conditions (minimal medium, aerobic) using the setupConditions.py function provided.\n",
    "7. Make sure objective name is set to 'VGRO', i.e. name of biomass reaction in iFF708. Simulate growth under the defined conditions using the `optimize` function, save wild-type growth.  \n",
    "8. Use single_gene_deletion function for the simulations of gene deletions\n",
    "9. Use `pandas.DataFrame.from_dict` to make a table of the results of the single gene deletion simulations\n",
    "    \n",
    "    **Ex2.**\n",
    "\n",
    "10. Run setupConditions again to set different growth conditions for the iFF708 model (rich medium, aerobic)\n",
    "11. Simulate growth under new conditions using the `optimize` function, save wild-type growth.\n",
    "12. Use single_gene_deletion function for the simulations of gene deletions\n",
    "13. Use `pandas.DataFrame.from_dict` to make a table of the results of the single gene deletion simulations\n",
    "14. Compare the results, e.g. how many of essential genes identified in each condition? use 10e-6 as growth cuttof \n",
    "15. Compare growth rate of mutants vs wildtype, i.e. how many gene knockouts show decreased fitness (reduced growth)?\n",
    "16. Optional: for each of conditions plot histogram of mutant vs wiltype ratios, e.g. use `hist` from `matplotlib` library \n",
    "\n",
    "    **Ex3.**\n",
    "\n",
    "17. Maximize ethanol production under minimal, anaerobic condition change the objective to `ETHxtO` (for excretion of ethanol).\n",
    "18. Use single_reaction_deletion function for the simulations of reaction deletions\n",
    "19. What are the effects of reaction deletions toward ethanol yield?"
   ]
  },
  {
   "cell_type": "code",
   "execution_count": 19,
   "metadata": {
    "collapsed": false
   },
   "outputs": [],
   "source": [
    "# define function to change conditions\n",
    "def setupConditions(model, medium='ypd', aeration='aerobic'):\n",
    "    \"\"\"\n",
    "    # This function sets up the medium and aeration conditions for the model\n",
    "    # Inputs: model - model of organism's metabolism\n",
    "    #         medium - either 'ypd' or 'minimal'\n",
    "    #         aeration - either 'aerobic' or 'anaerobic' \n",
    "    \"\"\"\n",
    "        \n",
    "    R1 = model.reactions.get_by_id('O2xtI') # oxygen uptake\n",
    "    R2 = model.reactions.get_by_id('NH3xtI') # amonium uptake\n",
    "    R3 = model.reactions.get_by_id('SLFxtI') # sulphate uptake\n",
    "    R4 = model.reactions.get_by_id('PIxtI') # phosphate uptake\n",
    "    R5 = model.reactions.get_by_id('GLCxtI') # glucose uptake\n",
    "    \n",
    "    R6 = model.reactions.get_by_id('ALAxtI') # L-alanine uptake\n",
    "    R7 = model.reactions.get_by_id('ARGxtI') # L-arginine uptake\n",
    "    R8 = model.reactions.get_by_id('ASPxtI') # L-aspartate uptake\n",
    "    R9 = model.reactions.get_by_id('CYSxtI') # L-cysteine uptake\n",
    "    R10 = model.reactions.get_by_id('GLUxtI') # L-glutamate uptake\n",
    "    R11 = model.reactions.get_by_id('GLYxtI') # glycine uptake\n",
    "    R12 = model.reactions.get_by_id('HISxtI') # L-histidine uptake\n",
    "    R13 = model.reactions.get_by_id('ILExtI') # L-isoleucine uptake\n",
    "    R14 = model.reactions.get_by_id('LEUxtI') # L-leucine uptake\n",
    "    R15 = model.reactions.get_by_id('LYSxtI') # lysine uptake\n",
    "    R16 = model.reactions.get_by_id('MMETxtI') # methionine uptake\n",
    "    R17 = model.reactions.get_by_id('PHExtI') # L-phenylalanine uptake\n",
    "    R18 = model.reactions.get_by_id('PROxtI') # L-proline uptake\n",
    "    R19 = model.reactions.get_by_id('SERxtI') # L-serine uptake\n",
    "    R20 = model.reactions.get_by_id('THRxtI') # L-threonine  uptake\n",
    "    R21 = model.reactions.get_by_id('TRPxtI') # L-tryptophan uptake\n",
    "    R22 = model.reactions.get_by_id('TYRxtI') # L-tyrosine uptake\n",
    "    R23 = model.reactions.get_by_id('VALxtI') # L-valine uptake\n",
    "    \n",
    "    R24 = model.reactions.get_by_id('KxtI') # potassium uptake\n",
    "    R25 = model.reactions.get_by_id('NAxtI') # sodium uptake\n",
    "    R26 = model.reactions.get_by_id('BTxtI') # biotin uptake\n",
    "    R27 = model.reactions.get_by_id('CHOxtI') # chlorine uptake\n",
    "    R28 = model.reactions.get_by_id('RFLAVxtI') # raboflavin uptake\n",
    "    R29 = model.reactions.get_by_id('THMxtI') # thiamine uptake\n",
    "    R30 = model.reactions.get_by_id('MIxtI') # myo-inositol uptake\n",
    "    R31 = model.reactions.get_by_id('DTxtI') # thymidine uptake\n",
    "    R32 = model.reactions.get_by_id('PNTOxtI') # (R)-panthotenate uptake\n",
    "    R33 = model.reactions.get_by_id('URAxtI') # uracyl uptake\n",
    "    \n",
    "    R34 = model.reactions.get_by_id('ERGOxtI') # ergosterol uptake\n",
    "    R35 = model.reactions.get_by_id('ZYMSTxtI') # zymosterol uptake\n",
    "    \n",
    "    \n",
    "    #% Set general medium conditions\n",
    "#model.ub(1192) = 6.3;  %oxygen uptake\n",
    "#model.ub(1196) = 1000; %ammonium uptake\n",
    "#model.ub(1176) = 1000; %sulphate uptake\n",
    "#model.ub(1189) = 1000; %phosphate uptake\n",
    "#model.ub(1260) = 22.6; %glucose uptake\n",
    "    \n",
    "    # set up medium conditions    \n",
    "    R1.upper_bound = 6.3\n",
    "    R2.upper_bound = 1000\n",
    "    R3.upper_bound = 1000\n",
    "    R4.upper_bound = 1000\n",
    "    R5.upper_bound = 22.6\n",
    "    \n",
    "\n",
    "    # Set specific medium conditions\n",
    "    if medium == 'ypd':\n",
    "        R6.upper_bound = 0.519            \n",
    "        R7.upper_bound = 0.193\n",
    "        R8.upper_bound = 0.274\n",
    "        R9.upper_bound = 0.0192\n",
    "        R10.upper_bound = 0.479\n",
    "        R11.upper_bound = 0.934\n",
    "        R12.upper_bound = 0.31\n",
    "        R13.upper_bound = 0.0952\n",
    "        R14.upper_bound = 1.66\n",
    "        R15.upper_bound = 0.167\n",
    "        R16.upper_bound = 0.0468\n",
    "        R17.upper_bound = 0.0758\n",
    "        R18.upper_bound = 0.357\n",
    "        R19.upper_bound = 0.166\n",
    "        R20.upper_bound = 0.112\n",
    "        R21.upper_bound = 0.0207\n",
    "        R22.upper_bound = 0.0279\n",
    "        R23.upper_bound = 0.148\n",
    "        \n",
    "        R24.upper_bound = 1000\n",
    "        R25.upper_bound = 1000\n",
    "        R26.upper_bound = 1000\n",
    "        R27.upper_bound = 1000\n",
    "        R28.upper_bound = 1000\n",
    "        R29.upper_bound = 1000\n",
    "        R30.upper_bound = 1000\n",
    "        R31.upper_bound = 1000\n",
    "        R32.upper_bound = 1000\n",
    "        R33.upper_bound = 1000\n",
    "        \n",
    "    else: #medium == 'minimal'\n",
    "        R6.upper_bound = 0\n",
    "        R7.upper_bound = 0\n",
    "        R8.upper_bound = 0\n",
    "        R9.upper_bound = 0\n",
    "        R10.upper_bound = 0\n",
    "        R11.upper_bound = 0\n",
    "        R12.upper_bound = 0\n",
    "        R13.upper_bound = 0\n",
    "        R14.upper_bound = 0\n",
    "        R15.upper_bound = 0\n",
    "        R16.upper_bound = 0\n",
    "        R17.upper_bound = 0\n",
    "        R18.upper_bound = 0\n",
    "        R19.upper_bound = 0\n",
    "        R20.upper_bound = 0\n",
    "        R21.upper_bound = 0\n",
    "        R22.upper_bound = 0\n",
    "        R23.upper_bound = 0\n",
    "        \n",
    "        R24.upper_bound = 1000\n",
    "        R25.upper_bound = 1000\n",
    "        R26.upper_bound = 1000\n",
    "        R27.upper_bound = 1000\n",
    "        R30.upper_bound = 1000\n",
    "        R32.upper_bound = 1000\n",
    "        R33.upper_bound = 1000\n",
    "\n",
    "    \n",
    "    # set aeration conditions and in case of anaerobiosis, supplement the medium adequately for growth\n",
    "    if aeration == 'anaerobic':    \n",
    "        R1.upper_bound = 0\n",
    "        R34.upper_bound = 1000\n",
    "        R35.upper_bound = 1000\n",
    "        \n",
    "    return model"
   ]
  },
  {
   "cell_type": "code",
   "execution_count": 20,
   "metadata": {
    "collapsed": false,
    "scrolled": false
   },
   "outputs": [
    {
     "name": "stdout",
     "output_type": "stream",
     "text": [
      "Growth rate at aerobic and minimal medium conditions for iFF708_model:\n",
      "0.726858337992\n",
      "Growth rate at aerobic and rich media conditions for iFF708_model:\n",
      "0.803698900515\n",
      "Number of essential genes in aerobic minimal  medium 91 \n",
      "Number of essential genes in aerobic rich ypd medium 51 \n",
      "Percentage of mutants affecting fitness in     aerobic minimal  medium 0.224555735057 \n",
      "Percentage of mutants affecting fitness in     aerobic rich ypd medium 0.599353796446 \n"
     ]
    },
    {
     "data": {
      "image/png": "[encoded data removed]",
      "text/plain": [
       "<matplotlib.figure.Figure at 0x11b960b50>"
      ]
     },
     "metadata": {},
     "output_type": "display_data"
    }
   ],
   "source": [
    "# 1-5 import library for data analysis\n",
    "import pandas\n",
    "\n",
    "# import function to read sbml files\n",
    "from cobra.io import read_legacy_sbml\n",
    "\n",
    "# define model\n",
    "iFF708_sbml_file = 'iFF708_COBRA.xml'\n",
    "iFF708_model = read_legacy_sbml(iFF708_sbml_file)\n",
    "# specify solver\n",
    "solver = 'cglpk'\n",
    "\n",
    "# import function to simulate genes and reactions deletions\n",
    "from cobra.flux_analysis import single_gene_deletion, single_reaction_deletion\n",
    "\n",
    "\n",
    "# 6-9 set up conditions\n",
    "model_minaer = setupConditions(iFF708_model, medium='minimal', aeration='aerobic')\n",
    "# set the objective function name\n",
    "model_minaer.objective = 'VGRO' \n",
    "\n",
    "# simulate growth \n",
    "model_minaer.optimize(objective_sense='maximize', solver=solver)\n",
    "minaer_growth_rate = model_minaer.solution.f\n",
    "\n",
    "print('Growth rate at aerobic and minimal medium conditions for iFF708_model:')\n",
    "print(minaer_growth_rate)\n",
    "\n",
    "# simulate gene deletions\n",
    "growth, status = single_gene_deletion(model_minaer)\n",
    "df_minaer = pandas.DataFrame.from_dict({\"obj\": growth, \"status\": status})\n",
    "\n",
    "\n",
    "# 10 - 15 change conditions to rich aerobic\n",
    "model_richaer = setupConditions(iFF708_model, medium='ypd', aeration='aerobic')\n",
    "\n",
    "# simulate growth \n",
    "model_richaer.optimize(objective_sense='maximize', solver=solver)\n",
    "richear_growth_rate = model_richaer.solution.f\n",
    "\n",
    "print('Growth rate at aerobic and rich media conditions for iFF708_model:')\n",
    "print(richear_growth_rate)\n",
    "\n",
    "# simulate gene deletions\n",
    "growth, status = single_gene_deletion(model_richaer)\n",
    "df_richaer = pandas.DataFrame.from_dict({\"obj\": growth, \"status\": status})\n",
    "\n",
    "# how many genes are essential in rich vs minimal media? what is your expectation?\n",
    "growth_thr = 10e-6 # very small threshold for considering zero in-silico growth, fluxes usually never exact 0!\n",
    "\n",
    "print('Number of essential genes in aerobic minimal  medium {0} '.format(sum(df_minaer.obj < growth_thr)))\n",
    "print('Number of essential genes in aerobic rich ypd medium {0} '.format(sum(df_richaer.obj < growth_thr)))\n",
    "\n",
    "print('Percentage of mutants affecting fitness in \\\n",
    "    aerobic minimal  medium {0} '.format(sum(df_minaer.obj < minaer_growth_rate)/float(len(df_minaer))))\n",
    "print('Percentage of mutants affecting fitness in \\\n",
    "    aerobic rich ypd medium {0} '.format(sum(df_richaer.obj < richear_growth_rate)/float(len(df_richaer))))\n",
    "\n",
    "# plotting results \n",
    "import matplotlib.pyplot as plt\n",
    "%matplotlib inline  \n",
    "\n",
    "plt.figure(1)\n",
    "plt.subplot(221)\n",
    "plt.hist(df_minaer.obj/minaer_growth_rate)\n",
    "plt.xlim([0,1])\n",
    "plt.title(\"Minimal, aerobic\")\n",
    "\n",
    "plt.subplot(222)\n",
    "plt.hist(df_richaer.obj/richear_growth_rate)\n",
    "plt.xlim([0,1])\n",
    "plt.title(\"Rich, aerobic\")\n",
    "plt.show()\n"
   ]
  },
  {
   "cell_type": "code",
   "execution_count": 21,
   "metadata": {
    "collapsed": false
   },
   "outputs": [
    {
     "name": "stdout",
     "output_type": "stream",
     "text": [
      "{<Reaction ETHxtO at 0x11d53a490>: 1}\n",
      "Maximum ethanol production at anaerobic conditions:\n",
      "45.2\n",
      "Percentage of reactions affecting ethanol yield in     aerobic minimal  medium 0.316896301668 \n"
     ]
    }
   ],
   "source": [
    "# 17-19 Ethanol case study\n",
    "model_etoh_minaer = setupConditions(iFF708_model, medium='minimal', aeration='anaerobic')\n",
    "\n",
    "# simulate ethanol production\n",
    "model_etoh_minaer.objective = 'ETHxtO'\n",
    "print model_etoh_minaer.objective\n",
    "\n",
    "model_etoh_minaer.optimize(objective_sense='maximize', solver=solver)\n",
    "ethoh_max = model_etoh_minaer.solution.f\n",
    "\n",
    "print('Maximum ethanol production at anaerobic conditions:')\n",
    "print(ethoh_max)\n",
    "\n",
    "obj, status = single_reaction_deletion(model_etoh_minaer)\n",
    "df_etoh_minaer = pandas.DataFrame.from_dict({\"objective\": obj, \"status\": status})\n",
    "\n",
    "#print(df_etoh_minaer.query('objective < {0}'.format(float(ethoh_max))))\n",
    "      \n",
    "print('Percentage of reactions affecting ethanol yield in \\\n",
    "    aerobic minimal  medium {0} '.format(sum(df_etoh_minaer.objective < ethoh_max)/float(len(df_etoh_minaer))))\n"
   ]
  },
  {
   "cell_type": "markdown",
   "metadata": {},
   "source": [
    "# Exercise 7 - Plasticity of yeast metabolism: response to oxygen limitation\n",
    "\n",
    "A hallmark of yeast metabolism is production of ethanol during aerobic growth on glucose. This respiro-fermentative metabolism is favoured by yeast, while FBA predicts much higher yield in fully respiratory mode. It is generally believed that this is due to the limited respiratory capacity of the yeast (see Figure below) leading to so-called overflow metabolism. In high glucose conditions yeast *S. cerevisiae* actively represses the respiratory capacity (imagine a shrinked respiratory capacity band around the flux arrow in Figure below).\n",
    "\n",
    "Limited respiratory capacity of yeast leads to ethanol formation under aerobic conditions.\n",
    "\n",
    "![alt text](15.png)\n",
    "\n",
    "Modify the upper bound for oxygen uptake rate directly in the ub-vector of the model, change the objective function to excretion of ethanol and simulate.\n"
   ]
  },
  {
   "cell_type": "code",
   "execution_count": 22,
   "metadata": {
    "collapsed": false
   },
   "outputs": [
    {
     "name": "stdout",
     "output_type": "stream",
     "text": [
      "0\n",
      "0.0\n",
      "Reaction objective\n",
      "{<Reaction ETHxtO at 0x11d53a490>: 1}\n",
      "Growth rate at anaerobic conditions, optimising for the excretion of ethanol:\n",
      "45.2\n"
     ]
    }
   ],
   "source": [
    "R1 = iFF708_model.reactions.get_by_id('O2xtI') # oxygen uptake\n",
    "R2 = iFF708_model.reactions.get_by_id('O2xtI') # oxygen uptake\n",
    "print R1.upper_bound\n",
    "print R1.lower_bound\n",
    "\n",
    "iFF708_model.objective = 'ETHxtO'\n",
    "print('Reaction objective')\n",
    "print iFF708_model.objective\n",
    "iFF708_model.optimize(solver=solver)\n",
    "iFF708_growth_rate = iFF708_model.solution.f\n",
    "print('Growth rate at anaerobic conditions, optimising for the excretion of ethanol:')\n",
    "print(iFF708_growth_rate)"
   ]
  },
  {
   "cell_type": "markdown",
   "metadata": {},
   "source": [
    "# Exercise 8 - Design of a yeast cell factory for succinate production\n",
    "\n",
    "1. Determine the maximum theoretical yield of succinate on glucose using the iFF708 model. Use aerobic minimal medium conditions for the simulation. Investigate the reactions needed to be active to reach the optimal production. What would hamper the optimal production *in vivo*? \n",
    "2. Instead of running OptGene (Patil et al. 2005,see Appendix) algorithm, we will use a simplified approach, a “brute force” approach, and study all double reaction deletion phenotypes of the iFF708 model. The goal is to identify best gene knockout strategy to improve succinate production in yeast by growth-coupling. Use aerobic minimal medium conditions for the simulation. See Otero et al. (2013) and Patil et al. (2005) (see Appendix) for background information. This exercise is tied to the experimental part wherein you will be implementing the strategy in vivo using CRISPR system. \n",
    "\n",
    "**Workflow:**\n",
    "\n",
    "- See the instructions in the exercises above.\n",
    "- The reactions that necessarily need to carry flux for optimal succinate production can be examined using COBRA Toolbox function fluxVariability.\n"
   ]
  },
  {
   "cell_type": "code",
   "execution_count": null,
   "metadata": {
    "collapsed": true
   },
   "outputs": [],
   "source": []
  },
  {
   "cell_type": "markdown",
   "metadata": {},
   "source": [
    "# Exercise 9 - Lycopene production in yeast\n",
    "\n",
    "1. Introduce a heterologous lycopene production pathway in the iFF708 model and identify: i) what is the maximum theoretical yield of lycopene on glucose and ii) which genes are essential for the production of lycopene. Use aerobic minimal media conditions for both simulations.\n",
    "2. Evaluate the effect of the two pathways suggested by Kozak et al. 2014 (see Appendix) to replace the acetyl-CoA synthetases in S. cerevisiae on theoretical lycopene production.\n",
    "\n",
    "**Workflow:**\n",
    "\n",
    "- See the instructions in the exercises above.\n",
    "- Use COBRA Toolbox function addReaction to introduce heterologous reactions to the model.\n"
   ]
  },
  {
   "cell_type": "code",
   "execution_count": 23,
   "metadata": {
    "collapsed": false
   },
   "outputs": [
    {
     "ename": "SyntaxError",
     "evalue": "invalid syntax (<ipython-input-23-31c751947f57>, line 15)",
     "output_type": "error",
     "traceback": [
      "\u001b[0;36m  File \u001b[0;32m\"<ipython-input-23-31c751947f57>\"\u001b[0;36m, line \u001b[0;32m15\u001b[0m\n\u001b[0;31m    from cobra.flux_analysis.variability\u001b[0m\n\u001b[0m                                        ^\u001b[0m\n\u001b[0;31mSyntaxError\u001b[0m\u001b[0;31m:\u001b[0m invalid syntax\n"
     ]
    }
   ],
   "source": [
    "import pandas\n",
    "\n",
    "# import function to read sbml files\n",
    "from cobra.io import read_legacy_sbml\n",
    "\n",
    "# define model\n",
    "iFF708_sbml_file = 'iFF708_COBRA.xml'\n",
    "iFF708_model = read_legacy_sbml(iFF708_sbml_file)\n",
    "\n",
    "# specify solver\n",
    "solver = 'cglpk'\n",
    "\n",
    "# import function to simulate genes and reactions deletions\n",
    "from cobra.flux_analysis import single_gene_deletion\n",
    "\n",
    "\n",
    "# set up conditions\n",
    "iFF708_model = setupConditions(iFF708_model, medium='minimal', aeration='aerobic')\n",
    "\n",
    "\n"
   ]
  },
  {
   "cell_type": "code",
   "execution_count": null,
   "metadata": {
    "collapsed": true
   },
   "outputs": [],
   "source": []
  }
 ],
 "metadata": {
  "kernelspec": {
   "display_name": "Python 2",
   "language": "python",
   "name": "python2"
  },
  "language_info": {
   "codemirror_mode": {
    "name": "ipython",
    "version": 2
   },
   "file_extension": ".py",
   "mimetype": "text/x-python",
   "name": "python",
   "nbconvert_exporter": "python",
   "pygments_lexer": "ipython2",
   "version": "2.7.11"
  }
 },
 "nbformat": 4,
 "nbformat_minor": 0
}
