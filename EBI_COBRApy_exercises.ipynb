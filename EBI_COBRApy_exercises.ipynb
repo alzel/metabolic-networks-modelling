{
 "cells": [
  {
   "cell_type": "markdown",
   "metadata": {},
   "source": [
    "# EBI In Silico Systems Biology 2017\n",
    "# Constrained based modelling of metabolic networks\n",
    "\n",
    "Paula Jouhten(1, 2), Kiran Patil(2), Karin Sasaki(2), Aleksej Zelezniak(3)\n",
    "\n",
    "- (1). University of Helsinki, Finland\n",
    "- (2). EMBL-Heidelberg, Germany\n",
    "- (3). Chalmers Institute of Technology, Sweden\n"
   ]
  },
  {
   "cell_type": "markdown",
   "metadata": {},
   "source": [
    "## In silico design of microbial metabolic networks"
   ]
  },
  {
   "cell_type": "markdown",
   "metadata": {},
   "source": [
    "To economically produce desired compounds from microbial cell factories it is often necessary to engineer their metabolic networks. Indeed, microorganisms are typically evolved for maximizing growth (or other fitness traits) in their natural habitat and not for over-producing metabolites of human interest. Retrofitting of microbial metabolism has traditionally been done through classical strain improvement that involved random mutagenesis and screening. Such approaches are laborious, unpredictable, and fail to take advantage of the rapidly increasing knowledge of how microorganisms work. Rational engineering of microbial metabolic networks is thus crucial for realizing the potential of synthetic biology. In absence of such methods, the new pathways and functionalities offered by synthetic biology risk to remain below the levels mandated by economic feasibility. Furthermore, rational design of native cellular networks will become an integral part of synthetic biology applications beyond metabolite production – new synthetic circuit must operate in harmony within the context of native networks. Metabolic networks, being relatively well charted from topological as well as mechanistic point of view, offer a good starting point to build our capability to engineer complex networks. \n",
    "\n",
    "In this course, we will introduce the basic concepts of metabolic modeling from a synthetic biology perspective. The focus will be on stoichiometric models of metabolism as these can be applied at the scale of genome and with minimal assumptions. We will use the Python package for constrained based modelling, COBRApy."
   ]
  },
  {
   "cell_type": "markdown",
   "metadata": {},
   "source": [
    "#### Supplementary reading \n",
    "1. Brochado A.R. & Patil K.R. Model-guided identification of gene deletion targets for metabolic engineering in Saccharomyces cerevisiae.  Yeast Metabolic Engineering: Methods and Protocols, Springer, 1152:281-294 (2014).\n",
    "2. Otero, J.M., Cimini, D., Patil, K.R., Poulsen, S.G., Olsson, L. & Nielsen, J. Industrial Systems Biology of Saccharomyces cerevisiae Enables Novel Succinic Acid Cell Factory. PLoS One 8(1): e54144 (2013).\n",
    "3. Patil K. R., Rocha I., Forster J. & Nielsen J. Evolutionary programming as a platform for in silico metabolic engineering. BMC Bioinformatics. 6, 308 (2005).\n",
    "4. Orth JD, Thiele I, Palsson BO. What is flux balance analysis? Nat Biotechnol 28(3):245–248 (2010).\n",
    "5. I Borodina, J Nielsen. Advances in metabolic engineering of yeast Saccharomyces cerevisiae for production of chemicals. Biotechnology journal (9) 609-20 (2014).\n",
    "6. Aung HW, Henry SA, Walker LP. Revising the Representation of Fatty Acid, Glycerolipid, and Glycerophospholipid Metabolism in the Consensus Model of Yeast Metabolism. Ind Biotechnol (New Rochelle N Y). 9:215-228 (2013).\n",
    "7. Förster J, Famili I, Fu P, Palsson BØ, Nielsen J. Genome-scale reconstruction of the Saccharomyces cerevisiae metabolic network. Genome Res. 13:244-53 (2003).\n",
    "8. Brochado A.R., Matos C., Møller B. L., Hansen J., Mortensen U.H. Patil K.R. Improved vanillin production in baker's yeast through in silico design. Microbial Cell Factories (2010). "
   ]
  },
  {
   "cell_type": "markdown",
   "metadata": {},
   "source": [
    "#### Useful links\n",
    "\n",
    "Install COBRApy: https://github.com/opencobra/cobrapy\n",
    "\n",
    "Getting started with COBRApy: http://cobrapy.readthedocs.io/en/latest/getting_started.html\n",
    "\n",
    "Introduction to programming with Python: https://github.com/tobyhodges/ITPP\n",
    "\n",
    "An introduction to Numpy: https://docs.scipy.org/doc/numpy-dev/user/quickstart.html\n",
    "\n",
    "Data analysis in Python with Pandas: http://pandas.pydata.org/\n"
   ]
  },
  {
   "cell_type": "markdown",
   "metadata": {},
   "source": [
    "## Introduction to stoichiometric models"
   ]
  },
  {
   "cell_type": "markdown",
   "metadata": {},
   "source": [
    "Cellular metabolic networks are highly complex and involve hundreds of enzymes and metabolites. Together, enzymes synthesize building blocks of life (DNA, proteins, lipids etc.) and ensure thermodynamically favorable environment for growth and maintenance.\n",
    "\n",
    "The state of any metabolic network is largely defined by the **fluxes** through different reactions, i.e. the rates of corresponding enzymatic reactions. These reaction rates are dependent on various parameters in a highly non-linear fashion. \n",
    "\n",
    "It is, however, possible to simulate many networks of interest by using a **linear system of equations**: Since chemical compounds react in a fixed stoichiometry, one can write flux balance for each metabolite by using *law of conservation of mass*. Usually, mass balance equation is written only for the intracellular metabolites (i.e. metabolites present inside the cells). Thus, the cell wall defines the boundary of our system."
   ]
  },
  {
   "cell_type": "markdown",
   "metadata": {},
   "source": [
    "### Example 1\n",
    "\n",
    "An example of simple network with 3 fluxes and 1 metabolite is shown below."
   ]
  },
  {
   "cell_type": "markdown",
   "metadata": {},
   "source": [
    "![alt text](1.png)"
   ]
  },
  {
   "cell_type": "markdown",
   "metadata": {},
   "source": [
    "The mass balance equation (i.e. ‘what comes in must go out’) for this example is:  \n",
    "```\n",
    "f1 + f2 = f3 \n",
    "or \n",
    "f1 + f2 – f3 = 0\n",
    "```"
   ]
  },
  {
   "cell_type": "markdown",
   "metadata": {},
   "source": [
    "### Example 2 - Relevant Python commands\n",
    "\n",
    "Consider a metabolic network depicted in the following picture (see also the stoichiometric equations for the each reactions below), with \n",
    "```\n",
    "f1 = 1 \n",
    "f3 = 0.5\n",
    "```"
   ]
  },
  {
   "cell_type": "markdown",
   "metadata": {},
   "source": [
    "![alt text](2.png)"
   ]
  },
  {
   "cell_type": "markdown",
   "metadata": {},
   "source": [
    "#### Stoichiometric equations:\n",
    "1.\tReaction 1: ``` M1 = 0```\n",
    "2.\tReaction 2: ```-M1 + 0.5 M2 + 0.5 M3 = 0```\n",
    "3.\tReaction 3: ```–M2 = 0```\n",
    "4.\tReaction 4: ```-M2 = 0```\n",
    "5.\tReaction 5:\t```–M3 = 0```\n",
    "\n",
    "\n",
    "#### Stoichiometric matrix:\n",
    "\n",
    "Number of rows = number of metabolites\n",
    "\n",
    "Number of columns = number of reactions\n",
    "\n",
    "![alt text](3.png)\n",
    "\n",
    "This matrix is referred to as stoichiometric matrix and an element of this matrix is called stoichiometric coefficient. "
   ]
  },
  {
   "cell_type": "markdown",
   "metadata": {},
   "source": [
    "#### Creating a matrix with python:\n",
    "\n",
    "First of all, we need to import the numpy module:"
   ]
  },
  {
   "cell_type": "code",
   "execution_count": 6,
   "metadata": {
    "collapsed": true
   },
   "outputs": [],
   "source": [
    "import numpy as np"
   ]
  },
  {
   "cell_type": "markdown",
   "metadata": {},
   "source": [
    "There are multiple ways of creating a matrix in Python. For small matrix as in the above example, easiest way is either to type-in the matrix, as shown below. Another way would be to create the matrix in excel or a text file and import it, using the command ```numpy.loadtxt```."
   ]
  },
  {
   "cell_type": "code",
   "execution_count": 7,
   "metadata": {},
   "outputs": [
    {
     "name": "stdout",
     "output_type": "stream",
     "text": [
      "S = \n",
      "[[ 1.  -1.   0.   0.   0. ]\n",
      " [ 0.   0.5 -1.  -1.   0. ]\n",
      " [ 0.   0.5  0.   0.  -1. ]]\n",
      "Dimensions of S:\n",
      "(3, 5)\n",
      "Three rows and five colums - three metabolites and five reactions.\n"
     ]
    }
   ],
   "source": [
    "# Stoichiometric matrix\n",
    "S = np.array([[1, -1, 0, 0, 0],\n",
    "              [0, 0.5, -1, -1, 0],\n",
    "              [0, 0.5, 0, 0, -1]\n",
    "             ])\n",
    "print('S = ')\n",
    "print(S)\n",
    "print('Dimensions of S:')\n",
    "print(np.shape(S))\n",
    "print('Three rows and five colums - three metabolites and five reactions.')"
   ]
  },
  {
   "cell_type": "markdown",
   "metadata": {},
   "source": [
    "#### How many flux measurements we will need in order to have a completely determined system?\n",
    "\n",
    "Rank of the above stoichiometric matrix is:"
   ]
  },
  {
   "cell_type": "code",
   "execution_count": 8,
   "metadata": {},
   "outputs": [
    {
     "name": "stdout",
     "output_type": "stream",
     "text": [
      "Rank of S\n",
      "3\n"
     ]
    }
   ],
   "source": [
    "print('Rank of S')\n",
    "print(np.linalg.matrix_rank(S))"
   ]
  },
  {
   "cell_type": "markdown",
   "metadata": {},
   "source": [
    "...hence we will need 2 (= 5 variables – 3 equations) measurements in order to solve the equations. \n",
    "\n",
    "Let’s assume that we are given f1 = 1 and f3 = 0.5. \n",
    "\n",
    "We can then write the following set of equations where only variables left are f2, f4 and f5.\n",
    "\n",
    "1.\tMass balance equation for M1: ```f1 = f2``` or ```f1 – f2 = 0``` implies ```f2 = 1```\n",
    "2.\tMass balance equation for M2: ```0.5f2 = f3 + f4``` or ```0.5f2 – f3 – f4``` implies ```0.5 f2 – f4 = 0.5```\n",
    "3.\tMass balance equation for M3: ```0.5f2 = f5``` or ```0.5f2 – f5 = 0```\n",
    "\n",
    "Note that the mass balance for each metabolite contains corresponding stoichiometric coefficient, e.g. 0.5 is stoichiometric coefficient of M2 in reaction 2 (corresponding to f2).\n",
    "\n",
    "So, we have the following linear system (```A.f = b```):\n",
    "\n",
    "![alt text](4.png)\n",
    "\n",
    "This particular example can be solved manually, and you would get ```f2 = 1, f4 = 0``` and  ```f5 = 0.5```. Using Python, you can use ```numpy.linalg.solve``` to solve a linear set of equations and find the solutions to ```f2, f4``` and ```f5```, as below:"
   ]
  },
  {
   "cell_type": "code",
   "execution_count": 9,
   "metadata": {},
   "outputs": [
    {
     "name": "stdout",
     "output_type": "stream",
     "text": [
      "A=\n",
      "[[ 1.   0.   0. ]\n",
      " [ 0.5 -1.   0. ]\n",
      " [ 0.5  0.  -1. ]]\n",
      "b=\n",
      "[ 1.   0.5  0. ]\n",
      "f2= 1.0\n",
      "f4= 0.0\n",
      "f5= 0.5\n"
     ]
    }
   ],
   "source": [
    "# Define A and b as above\n",
    "A = np.array([[1, 0, 0],\n",
    "             [0.5, -1, 0],\n",
    "             [0.5, 0, -1]])\n",
    "b = np.array([1, 0.5, 0])\n",
    "print('A=')\n",
    "print(A)\n",
    "print('b=')\n",
    "print(b)\n",
    "\n",
    "# Solve set of linear equations\n",
    "f = np.linalg.solve(A, b)\n",
    "print 'f2=',f[0]\n",
    "print 'f4=',f[1]\n",
    "print 'f5=',f[2]"
   ]
  },
  {
   "cell_type": "markdown",
   "metadata": {},
   "source": [
    "## Exercise 1 - The diet problem"
   ]
  },
  {
   "cell_type": "markdown",
   "metadata": {},
   "source": [
    "Suppose that the only food items available to buy are potatoes and chicken. The decision about how much of each food to buy is to be made entirely on dietary and economic considerations. We have the nutritional and cost information in the following table:\n",
    "\n",
    "![alt text](5.png)"
   ]
  },
  {
   "cell_type": "markdown",
   "metadata": {},
   "source": [
    "The problem is to find a diet (a choice of the numbers of units of the two foods) that meets all minimum nutritional requirements at minimal cost. Formulate the problem as a linear programming problem (LPP). Do the calculations by using graphical method (by hand) and verify your results by using the function ```scipy.optimize.linprog```.\n",
    "\n",
    "Note: Do not forget to import scipy!\n",
    "\n",
    "### Answers"
   ]
  },
  {
   "cell_type": "code",
   "execution_count": null,
   "metadata": {
    "collapsed": true
   },
   "outputs": [],
   "source": []
  },
  {
   "cell_type": "markdown",
   "metadata": {},
   "source": [
    "## Exercise 2 - Optimal distribution\n",
    "\n",
    "A certain compound ```M``` can enter into yeast cells at the maximum rate of 2. Compound ```M``` can be treated either in cytosol or in mitochondria. Due to transport limitations, ```f2``` can not be higher than 1. Growth advantage for yeast due to ```M``` is given by (```f1 + 10f2```). Determine the optimal value of the objective function and corresponding values of ```f1``` and ```f2```.\n",
    "\n",
    "![alt text](8.png)\n",
    "### Answers"
   ]
  },
  {
   "cell_type": "code",
   "execution_count": null,
   "metadata": {
    "collapsed": true
   },
   "outputs": [],
   "source": []
  },
  {
   "cell_type": "markdown",
   "metadata": {},
   "source": [
    "## Exercise 3 - a simple metabolic network\n",
    "\n",
    "Following figure shows a toy metabolic network. \n",
    "\n",
    "![alt text](10.png)\n",
    "\n",
    "The network is capable of converting substrate ```S``` into product ```P``` and/or into biomass ```X```. The stoichiometry of each of the reactions in the network is given below.\n",
    "\n",
    "1.\tR1:\t```S = 0```\n",
    "2.\tR2: ```- S + A = 0```\n",
    "3.\tR3:\t```- S + B = 0```\n",
    "4.\tR4:\t```- S + C = 0```\n",
    "5.\tR5:\t```- A + D = 0```\n",
    "6.\tR6:\t```- B + D = 0```\n",
    "7.\tR7:\t```- C + P = 0```\n",
    "8.\tR8:\t```- P = 0```\n",
    "9.\tR9:\t```- P - D + 2 X = 0```\n",
    "10.\tR10: ```- X = 0```\n",
    "\n",
    "a. How many fluxes do we need to know values of before we have a completely determined linear equation system?\n",
    "\n",
    "b. If ```f1 = 1```, ```f2 = 0.25``` and ```f3 = 0.25```, what will be the rate of production of product and biomass (i.e. ```f8``` and ```f10```)?  What will be the effect of changing ```f3``` to zero?\n",
    "\n",
    "c. If the only available information is ```f1 = 1```, what will be the maximum possible rate of product and biomass formation? (Use linear programming formulation). \n",
    "\n",
    "d. Consider the flux distribution obtained in the above sub-question in case of maximization of ```f10```. Is the solution obtained unique? Suggest and implement a method to verify whether the obtained solution is unique."
   ]
  },
  {
   "cell_type": "markdown",
   "metadata": {},
   "source": [
    "### Answers\n",
    "\n",
    "##### a. "
   ]
  },
  {
   "cell_type": "code",
   "execution_count": null,
   "metadata": {
    "collapsed": true
   },
   "outputs": [],
   "source": []
  },
  {
   "cell_type": "markdown",
   "metadata": {},
   "source": [
    "#### b."
   ]
  },
  {
   "cell_type": "code",
   "execution_count": null,
   "metadata": {
    "collapsed": true
   },
   "outputs": [],
   "source": []
  },
  {
   "cell_type": "markdown",
   "metadata": {},
   "source": [
    "#### c.\n",
    "\n"
   ]
  },
  {
   "cell_type": "code",
   "execution_count": null,
   "metadata": {
    "collapsed": true
   },
   "outputs": [],
   "source": []
  },
  {
   "cell_type": "markdown",
   "metadata": {},
   "source": [
    "#### d.\n"
   ]
  },
  {
   "cell_type": "code",
   "execution_count": null,
   "metadata": {
    "collapsed": true
   },
   "outputs": [],
   "source": []
  },
  {
   "cell_type": "markdown",
   "metadata": {},
   "source": [
    "### Exercise 4 - Multiple optima\n",
    "\n",
    "Illustrate, by using a simple reaction network, that linear programming can give optimal flux distribution under steady state, but there may be multiple solutions.\n",
    "\n",
    "#### Answer"
   ]
  },
  {
   "cell_type": "markdown",
   "metadata": {},
   "source": [
    "## Exercise 5 - Another small reaction model\n",
    "\n",
    "Central metabolism of an antibiotic producing fungus is shown in a simplified format in the following sketch. \n",
    "\n",
    "![alt text](13.png)\n",
    "\n",
    "Set up a flux balance model for this system by using Python. Assume that the maximum possible rate of substrate uptake (```v1```) is 1. Unless and otherwise stated differently, assume steady state for all intra-cellular metabolites.\n",
    "\n",
    "i) What is the maximal production rate of Biomass (```X```)? What is the flux distribution in this case?\n",
    "\n",
    "ii) Is the flux solution obtained in (i) unique? If not, identify at least one more optimal solution.\n",
    "\n",
    "iii) What are the maximal production rates for the metabolites ```C``` ad ```D```?\n",
    "\n",
    "iv) Prepare a plot showing the relationship between the maximum biomass formation rate (```v11```) and rate of secretion of D. If D is the product of interest, calculate the maximum productivity (```v11*v5```) that can be achieved by using this organism.\n",
    "\n",
    "v) Dr. Highthroughput is interested in studying deletion phenotypes of all single gene deletion mutants in this organism. However, due to restrictions on time and money available, he wishes to minimize the number of genes without loosing much information. What set of genes will be your suggestion to him for not to delete? "
   ]
  },
  {
   "cell_type": "markdown",
   "metadata": {},
   "source": [
    "### Answers"
   ]
  },
  {
   "cell_type": "markdown",
   "metadata": {},
   "source": [
    "#### i)\n"
   ]
  },
  {
   "cell_type": "code",
   "execution_count": null,
   "metadata": {
    "collapsed": true
   },
   "outputs": [],
   "source": []
  },
  {
   "cell_type": "markdown",
   "metadata": {},
   "source": [
    "#### ii)\n"
   ]
  },
  {
   "cell_type": "code",
   "execution_count": null,
   "metadata": {
    "collapsed": true
   },
   "outputs": [],
   "source": []
  },
  {
   "cell_type": "markdown",
   "metadata": {},
   "source": [
    "#### iii)\n",
    "\n"
   ]
  },
  {
   "cell_type": "code",
   "execution_count": null,
   "metadata": {
    "collapsed": true
   },
   "outputs": [],
   "source": []
  },
  {
   "cell_type": "markdown",
   "metadata": {},
   "source": [
    "#### iv)\n"
   ]
  },
  {
   "cell_type": "code",
   "execution_count": null,
   "metadata": {
    "collapsed": true
   },
   "outputs": [],
   "source": []
  },
  {
   "cell_type": "markdown",
   "metadata": {},
   "source": [
    "#### v)\n"
   ]
  },
  {
   "cell_type": "code",
   "execution_count": null,
   "metadata": {
    "collapsed": true
   },
   "outputs": [],
   "source": []
  },
  {
   "cell_type": "markdown",
   "metadata": {},
   "source": [
    "## Introduction to COBRApy\n",
    "\n",
    "COBRApy is a Python package for constraint-based modelling of biological networks.\n",
    "\n",
    "The example below is a short introduction ot COBRApy. Another good source is the cobrapy documentation: \n",
    "\n",
    "https://cobrapy.readthedocs.io/en/latest/getting_started.html"
   ]
  },
  {
   "cell_type": "markdown",
   "metadata": {},
   "source": [
    "### Example 3\n",
    "\n",
    "To begin with, let's get and load a model. \n",
    "\n",
    "We will work with a condensed version of the genome-scale *E. coli* reconstruction, which contains central metabolism reactions. The network contains 62 internal reactions, 14 exchange reactions and a biomass objective function. It can be downloaded from the link below:\n",
    "\n",
    "http://systemsbiology.ucsd.edu/InSilicoOrganisms/Ecoli/EcoliSBML\n",
    "\n",
    "Save the file in the working directory.\n",
    "\n",
    "Next we load it:"
   ]
  },
  {
   "cell_type": "code",
   "execution_count": 10,
   "metadata": {
    "collapsed": true
   },
   "outputs": [],
   "source": [
    "# import function to read sbml files\n",
    "from cobra.io import read_sbml_model\n",
    "\n",
    "# define model\n",
    "ecoli_sbml_file = 'Ec_core_flux1.xml'\n",
    "ecoli_model = read_sbml_model(ecoli_sbml_file)"
   ]
  },
  {
   "cell_type": "markdown",
   "metadata": {},
   "source": [
    "The reactions, metabolites, and genes are attributes of the model variable, and you can access them using the dot notation as follows: "
   ]
  },
  {
   "cell_type": "code",
   "execution_count": 11,
   "metadata": {},
   "outputs": [
    {
     "name": "stdout",
     "output_type": "stream",
     "text": [
      "77\n",
      "63\n",
      "101\n",
      "[<Reaction ACKr at 0x1109fdf50>, <Reaction ACONT at 0x1220219d0>, <Reaction ACt2r at 0x110141250>, <Reaction ADHEr at 0x12212b890>, <Reaction ADK1 at 0x12213aa90>, <Reaction AKGDH at 0x12213ab50>, <Reaction AKGt2r at 0x12213aad0>, <Reaction ATPM at 0x12213a990>, <Reaction ATPS4r at 0x12213ad50>, <Reaction Biomass_Ecoli_core_N__w_GAM_ at 0x12213aa50>, <Reaction CO2t at 0x12213ac90>, <Reaction CS at 0x12213af50>, <Reaction CYTBD at 0x12213aed0>, <Reaction D_LACt2 at 0x12213add0>, <Reaction ENO at 0x12213af90>, <Reaction ETOHt2r at 0x12214b050>, <Reaction EX_ac_e_ at 0x12214b210>, <Reaction EX_akg_e_ at 0x12214b0d0>, <Reaction EX_co2_e_ at 0x12214b710>, <Reaction EX_etoh_e_ at 0x12214b750>, <Reaction EX_for_e_ at 0x12214b7d0>, <Reaction EX_fum_e_ at 0x12214b810>, <Reaction EX_glc_e_ at 0x12214b850>, <Reaction EX_h2o_e_ at 0x12214b890>, <Reaction EX_h_e_ at 0x12214b8d0>, <Reaction EX_lac_D_e_ at 0x12214b950>, <Reaction EX_o2_e_ at 0x12214b990>, <Reaction EX_pi_e_ at 0x12214b9d0>, <Reaction EX_pyr_e_ at 0x12214ba50>, <Reaction EX_succ_e_ at 0x12214ba90>, <Reaction FBA at 0x12214bb10>, <Reaction FBP at 0x12214bb50>, <Reaction FORt at 0x12214bad0>, <Reaction FRD at 0x12214bc90>, <Reaction FUM at 0x12214bd10>, <Reaction FUMt2_2 at 0x12214be50>, <Reaction G6PDH2r at 0x12214bdd0>, <Reaction GAPD at 0x12214bc10>, <Reaction GLCpts at 0x12214bed0>, <Reaction GND at 0x12214bf90>, <Reaction H2Ot at 0x122160310>, <Reaction ICDHyr at 0x122160290>, <Reaction ICL at 0x122160210>, <Reaction LDH_D at 0x122160690>, <Reaction MALS at 0x122160410>, <Reaction MDH at 0x122160710>, <Reaction ME1 at 0x122160810>, <Reaction ME2 at 0x122160910>, <Reaction NADH11 at 0x122160890>, <Reaction NADTRHD at 0x122160ad0>, <Reaction O2t at 0x122160b90>, <Reaction PDH at 0x122160d10>, <Reaction PFK at 0x122160e10>, <Reaction PFL at 0x122160f90>, <Reaction PGI at 0x122170590>, <Reaction PGK at 0x122170610>, <Reaction PGL at 0x122170450>, <Reaction PGM at 0x122170890>, <Reaction PIt at 0x122170990>, <Reaction PPC at 0x122170b50>, <Reaction PPCK at 0x122170b10>, <Reaction PPS at 0x122170c10>, <Reaction PTAr at 0x122170d10>, <Reaction PYK at 0x122170cd0>, <Reaction PYRt2r at 0x122170dd0>, <Reaction RPE at 0x122170f50>, <Reaction RPI at 0x122170e90>, <Reaction SUCCt2_2 at 0x1221820d0>, <Reaction SUCCt2b at 0x122182310>, <Reaction SUCD1i at 0x1221822d0>, <Reaction SUCD4 at 0x1221823d0>, <Reaction SUCOAS at 0x122182510>, <Reaction TALA at 0x122182590>, <Reaction THD2 at 0x122182550>, <Reaction TKT1 at 0x1221825d0>, <Reaction TKT2 at 0x1221827d0>, <Reaction TPI at 0x122182c10>]\n"
     ]
    }
   ],
   "source": [
    "# print the number of reactions, metabolites and genes\n",
    "print(len(ecoli_model.reactions))\n",
    "print(len(ecoli_model.metabolites))\n",
    "print(len(ecoli_model.genes))\n",
    "\n",
    "# print all the reactions\n",
    "print(ecoli_model.reactions)"
   ]
  },
  {
   "cell_type": "markdown",
   "metadata": {},
   "source": [
    "Genes, reactions and metabolites are a special type of list called a DictList. "
   ]
  },
  {
   "cell_type": "code",
   "execution_count": 12,
   "metadata": {},
   "outputs": [
    {
     "name": "stdout",
     "output_type": "stream",
     "text": [
      "<class 'cobra.core.dictlist.DictList'>\n"
     ]
    }
   ],
   "source": [
    "print(type(ecoli_model.reactions))"
   ]
  },
  {
   "cell_type": "markdown",
   "metadata": {},
   "source": [
    "Objects in a DictList can be retrived by index. For example, to get the 30th reaction in the model (at index 29 because of 0-indexing) you would type:"
   ]
  },
  {
   "cell_type": "code",
   "execution_count": 13,
   "metadata": {},
   "outputs": [
    {
     "data": {
      "text/plain": [
       "<Reaction EX_succ_e_ at 0x12214ba90>"
      ]
     },
     "execution_count": 13,
     "metadata": {},
     "output_type": "execute_result"
    }
   ],
   "source": [
    "ecoli_model.reactions[29]"
   ]
  },
  {
   "cell_type": "markdown",
   "metadata": {},
   "source": [
    "Items can also be retrived by their id, using the `get_by_id() function`. For example, to get the cytosolic atp metabolite object (the id is “atp_c”), we can do the following:"
   ]
  },
  {
   "cell_type": "code",
   "execution_count": 14,
   "metadata": {},
   "outputs": [
    {
     "data": {
      "text/plain": [
       "<Metabolite atp_c at 0x122112ad0>"
      ]
     },
     "execution_count": 14,
     "metadata": {},
     "output_type": "execute_result"
    }
   ],
   "source": [
    "ecoli_model.metabolites.get_by_id(\"atp_c\")\n"
   ]
  },
  {
   "cell_type": "markdown",
   "metadata": {},
   "source": [
    "Users with an interactive shell will be able to tab-complete to list elements inside a list. This is very useful while in an interactive prompt, as you can see the possible actions you can do:\n",
    "\n",
    "![alt text](16.png)"
   ]
  },
  {
   "cell_type": "markdown",
   "metadata": {},
   "source": [
    "Now, you can, for example, view the full name of a reaction, or the equation, or the model objective:"
   ]
  },
  {
   "cell_type": "code",
   "execution_count": 15,
   "metadata": {},
   "outputs": [
    {
     "name": "stdout",
     "output_type": "stream",
     "text": [
      "R_glucose_6_phosphate_isomerase\n",
      "g6p_c <=> f6p_c\n",
      "-999999.0\n",
      "0\n",
      "atp_c\n",
      "-4\n",
      "Maximize\n",
      "-1.0*Biomass_Ecoli_core_N__w_GAM__reverse_d9451 + 1.0*Biomass_Ecoli_core_N__w_GAM_\n"
     ]
    }
   ],
   "source": [
    "# reaction glucose 6-phosphate isomerase, which interconverts glucose 6-phosphate and fructose 6-phosphate\n",
    "R1 = ecoli_model.reactions.get_by_id(\"PGI\")\n",
    "print(R1.name)\n",
    "print(R1.reaction)\n",
    "print(R1.lower_bound)\n",
    "print(R1.objective_coefficient)\n",
    "\n",
    "# cytosolic atp \n",
    "atp = ecoli_model.metabolites.get_by_id(\"atp_c\")\n",
    "print(atp)\n",
    "print(atp.charge)\n",
    "\n",
    "# model objective\n",
    "print(ecoli_model.objective)"
   ]
  },
  {
   "cell_type": "markdown",
   "metadata": {},
   "source": [
    "Exploring the methods of each DictList, you can, for example, add a new reaction, etc:"
   ]
  },
  {
   "cell_type": "code",
   "execution_count": 16,
   "metadata": {},
   "outputs": [
    {
     "name": "stdout",
     "output_type": "stream",
     "text": [
      "unknown metabolite 'green_eggs' created\n",
      "unknown metabolite 'ham' created\n"
     ]
    }
   ],
   "source": [
    "# add a reaction\n",
    "R1.reaction = \"g6p_c --> f6p_c + h_c + green_eggs + ham\"\n"
   ]
  },
  {
   "cell_type": "markdown",
   "metadata": {},
   "source": [
    "Simulations using flux balance analysis can be solved using the function `optimize. This will maximize or minimize (maximizing is the default) flux through the objective reactions."
   ]
  },
  {
   "cell_type": "code",
   "execution_count": 17,
   "metadata": {},
   "outputs": [
    {
     "name": "stdout",
     "output_type": "stream",
     "text": [
      "0.861407412591\n",
      "optimal\n",
      "IN FLUXES       OUT FLUXES    OBJECTIVES\n",
      "--------------  ------------  ----------------------\n",
      "o2_e     22.3   h2o_e  24.9   Biomass_Ecol...  0.861\n",
      "glc_D_e  10     co2_e  23.3\n",
      "pi_e      3.17  h_e     9.11\n",
      "None\n"
     ]
    }
   ],
   "source": [
    "# import library for data analysis\n",
    "import pandas\n",
    "pandas.options.display.max_rows = 100\n",
    "\n",
    "# import model again\n",
    "# define model\n",
    "ecoli_sbml_file = 'Ec_core_flux1.xml'\n",
    "ecoli_model = read_sbml_model(ecoli_sbml_file)\n",
    "\n",
    "# optimise model\n",
    "solution = ecoli_model.optimize()\n",
    "\n",
    "print solution.objective_value\n",
    "print solution.status\n",
    "\n",
    "print(ecoli_model.summary())\n",
    "\n",
    "\n"
   ]
  },
  {
   "cell_type": "code",
   "execution_count": 18,
   "metadata": {},
   "outputs": [
    {
     "name": "stdout",
     "output_type": "stream",
     "text": [
      "0.861407412591\n",
      "optimal\n",
      "IN FLUXES       OUT FLUXES    OBJECTIVES\n",
      "--------------  ------------  ----------------------\n",
      "o2_e     22.3   h2o_e  24.9   Biomass_Ecol...  0.861\n",
      "glc_D_e  10     co2_e  23.3\n",
      "pi_e      3.17  h_e     9.11\n",
      "None\n"
     ]
    }
   ],
   "source": [
    "import pandas\n",
    "pandas.options.display.max_rows = 100\n",
    "\n",
    "# import model again\n",
    "# define model\n",
    "ecoli_sbml_file = 'Ec_core_flux1.xml'\n",
    "ecoli_model = read_sbml_model(ecoli_sbml_file)\n",
    "\n",
    "# optimise model\n",
    "solution = ecoli_model.optimize(objective_sense=\"maximize\")\n",
    "\n",
    "print solution.objective_value\n",
    "print solution.status\n",
    "\n",
    "print(ecoli_model.summary())"
   ]
  },
  {
   "cell_type": "markdown",
   "metadata": {},
   "source": [
    "Note that the solution is stored at ecoli.solution and it has several attributes.\n",
    "\n",
    "For more examples on using COBRApy, we refert the reader to the COBRApy doc:\n",
    "\n",
    "https://cobrapy.readthedocs.io/en/latest/getting_started.html\n"
   ]
  },
  {
   "cell_type": "markdown",
   "metadata": {},
   "source": [
    "\n",
    "# Exercise 6 - Prediction of growth phenotypes of gene deletion mutants\n",
    "\n",
    "In this exercise, we will use a genome-scale models (GEM) of yeast metabolism, a robust, well curated, iFF708 (Forster et al. 2003, see Appendix), covering 1379 reactions corresponding to 619 genes and 796 metabolites.\n",
    "\n",
    "The resulting large linear models can be efficiently solved, thanks to the power of linear programming solvers such as glpk and CPLEX. Here, we will use the cglpk solver accessed via COBRApy.\n",
    "\n",
    "GEMs allow simulating growth phenotype as they include a linear reaction representing synthesis of new cells. This reaction, often termed growth reaction, combines macromolecular components (DNA, lipids, proteins etc.) and the needed energy and redox cofactors in appropriate proportions (ideally based on experimental data) towards synthesis of new biomass. The model also includes reactions for nutrient uptake and product secretion. When nutrient uptakes are constrained within, say, experimentally determined values, a linear programming problem maximizing growth reaction can predict the expected growth rate (or rather growth yield) of the cell in question. This problem (incl. its many variants) is commonly referred to as flux balance analysis (FBA, see Orth et al. 2010 in the appendix). Simulation of the effects of genetic perturbations is then possible by using the gene-protein-reaction association rules accompanying the model.\n",
    "\n",
    "1. Using the given yeast model, identify the growth phenotypes of all single gene deletion mutants. Perform this for the iFF708 model on minimal medium under aerobic conditions. Medium conditions are accounted for by appropriately constraining the nutrient uptake reactions). We provide below a function to change the medium conditions. In the exercises below, try to think about and answer the following questions:\n",
    "    - How many genes are essential for growth? \n",
    "    - How does this result compare with experimentally determined phenotypes (you can find these at yeastgenome.org)? \n",
    "    - How many reactions in the models are affected by the gene deletions? \n",
    "    - How many gene knock outs show decreased fitness (i.e. decreased simulated maximum specific growth rate)? \n",
    "    - Plot histograms of ratios of knock out growth rate and wt growth rate, study the results.\n",
    "\n",
    "2. Repeat the simulations for iFF708 model using aerobic rich (ypd) medium conditions and anaerobic minimal medium conditions. Compare the results from 1. and 2. and discuss their correspondence with your expectations.\n",
    "\n",
    "3. Same as for genes, one can simulate effect of deletion of whole reaction. Under minimal medium, anaerobic conditions, identify which REACTIONS are essential for ethanol production in yeast.\n",
    "\n",
    "**Specific functions and models provided:**\n",
    "\n",
    "*Models in SBML format:* iFF708_COBRA.xml\n",
    "*Function to set up conditions:* setupConditions\n",
    "\n",
    "    **Workflow:**\n",
    "\n",
    "1. Import a library for data analysis, we recommend `pandas`\n",
    "2. Import the function `read_legacy_sbml` from the `cobra.io` library\n",
    "3. Import the iFF708 yeast model in SBML format\n",
    "4. Specify the solver to be cglpk\n",
    "5. Import the function `single_gene_deletion` from the `cobra.flux_analysis` library, to simulate genes and reactions deletions\n",
    "\n",
    "    **Ex1.**\n",
    "\n",
    "6. Set up the simulation conditions (minimal medium, aerobic) using the setupConditions.py function provided.\n",
    "7. Make sure objective name is set to 'VGRO', i.e. name of biomass reaction in iFF708. Simulate growth under the defined conditions using the `optimize` function, save wild-type growth.  \n",
    "8. Use single_gene_deletion function for the simulations of gene deletions\n",
    "9. Use `pandas.DataFrame.from_dict` to make a table of the results of the single gene deletion simulations\n",
    "    \n",
    "    **Ex2.**\n",
    "\n",
    "10. Run setupConditions again to set different growth conditions for the iFF708 model (rich medium, aerobic)\n",
    "11. Simulate growth under new conditions using the `optimize` function, save wild-type growth.\n",
    "12. Use single_gene_deletion function for the simulations of gene deletions\n",
    "13. Use `pandas.DataFrame.from_dict` to make a table of the results of the single gene deletion simulations\n",
    "14. Compare the results, e.g. how many of essential genes identified in each condition? use 10e-6 as growth cuttof \n",
    "15. Compare growth rate of mutants vs wildtype, i.e. how many gene knockouts show decreased fitness (reduced growth)?\n",
    "16. Optional: for each of conditions plot histogram of mutant vs wiltype ratios, e.g. use `hist` from `matplotlib` library \n",
    "\n",
    "    **Ex3.**\n",
    "\n",
    "17. Maximize ethanol production under minimal, anaerobic condition change the objective to `ETHxtO` (for excretion of ethanol).\n",
    "18. Use single_reaction_deletion function for the simulations of reaction deletions\n",
    "19. What are the effects of reaction deletions toward ethanol yield?"
   ]
  },
  {
   "cell_type": "code",
   "execution_count": 19,
   "metadata": {
    "collapsed": true
   },
   "outputs": [],
   "source": [
    "# define function to change conditions\n",
    "def setupConditions(model, medium='ypd', aeration='aerobic'):\n",
    "    \"\"\"\n",
    "    # This function sets up the medium and aeration conditions for the model\n",
    "    # Inputs: model - model of organism's metabolism\n",
    "    #         medium - either 'ypd' or 'minimal'\n",
    "    #         aeration - either 'aerobic' or 'anaerobic' \n",
    "    \"\"\"\n",
    "        \n",
    "    R1 = model.reactions.get_by_id('O2xtI') # oxygen uptake\n",
    "    R2 = model.reactions.get_by_id('NH3xtI') # amonium uptake\n",
    "    R3 = model.reactions.get_by_id('SLFxtI') # sulphate uptake\n",
    "    R4 = model.reactions.get_by_id('PIxtI') # phosphate uptake\n",
    "    R5 = model.reactions.get_by_id('GLCxtI') # glucose uptake\n",
    "    \n",
    "    R6 = model.reactions.get_by_id('ALAxtI') # L-alanine uptake\n",
    "    R7 = model.reactions.get_by_id('ARGxtI') # L-arginine uptake\n",
    "    R8 = model.reactions.get_by_id('ASPxtI') # L-aspartate uptake\n",
    "    R9 = model.reactions.get_by_id('CYSxtI') # L-cysteine uptake\n",
    "    R10 = model.reactions.get_by_id('GLUxtI') # L-glutamate uptake\n",
    "    R11 = model.reactions.get_by_id('GLYxtI') # glycine uptake\n",
    "    R12 = model.reactions.get_by_id('HISxtI') # L-histidine uptake\n",
    "    R13 = model.reactions.get_by_id('ILExtI') # L-isoleucine uptake\n",
    "    R14 = model.reactions.get_by_id('LEUxtI') # L-leucine uptake\n",
    "    R15 = model.reactions.get_by_id('LYSxtI') # lysine uptake\n",
    "    R16 = model.reactions.get_by_id('MMETxtI') # methionine uptake\n",
    "    R17 = model.reactions.get_by_id('PHExtI') # L-phenylalanine uptake\n",
    "    R18 = model.reactions.get_by_id('PROxtI') # L-proline uptake\n",
    "    R19 = model.reactions.get_by_id('SERxtI') # L-serine uptake\n",
    "    R20 = model.reactions.get_by_id('THRxtI') # L-threonine  uptake\n",
    "    R21 = model.reactions.get_by_id('TRPxtI') # L-tryptophan uptake\n",
    "    R22 = model.reactions.get_by_id('TYRxtI') # L-tyrosine uptake\n",
    "    R23 = model.reactions.get_by_id('VALxtI') # L-valine uptake\n",
    "    \n",
    "    R24 = model.reactions.get_by_id('KxtI') # potassium uptake\n",
    "    R25 = model.reactions.get_by_id('NAxtI') # sodium uptake\n",
    "    R26 = model.reactions.get_by_id('BTxtI') # biotin uptake\n",
    "    R27 = model.reactions.get_by_id('CHOxtI') # chlorine uptake\n",
    "    R28 = model.reactions.get_by_id('RFLAVxtI') # raboflavin uptake\n",
    "    R29 = model.reactions.get_by_id('THMxtI') # thiamine uptake\n",
    "    R30 = model.reactions.get_by_id('MIxtI') # myo-inositol uptake\n",
    "    R31 = model.reactions.get_by_id('DTxtI') # thymidine uptake\n",
    "    R32 = model.reactions.get_by_id('PNTOxtI') # (R)-panthotenate uptake\n",
    "    R33 = model.reactions.get_by_id('URAxtI') # uracyl uptake\n",
    "    \n",
    "    R34 = model.reactions.get_by_id('ERGOxtI') # ergosterol uptake\n",
    "    R35 = model.reactions.get_by_id('ZYMSTxtI') # zymosterol uptake\n",
    "    \n",
    "    \n",
    "    #% Set general medium conditions\n",
    "#model.ub(1192) = 6.3;  %oxygen uptake\n",
    "#model.ub(1196) = 1000; %ammonium uptake\n",
    "#model.ub(1176) = 1000; %sulphate uptake\n",
    "#model.ub(1189) = 1000; %phosphate uptake\n",
    "#model.ub(1260) = 22.6; %glucose uptake\n",
    "    \n",
    "    # set up medium conditions    \n",
    "    R1.upper_bound = 6.3\n",
    "    R2.upper_bound = 1000\n",
    "    R3.upper_bound = 1000\n",
    "    R4.upper_bound = 1000\n",
    "    R5.upper_bound = 22.6\n",
    "    \n",
    "\n",
    "    # Set specific medium conditions\n",
    "    if medium == 'ypd':\n",
    "        R6.upper_bound = 0.519            \n",
    "        R7.upper_bound = 0.193\n",
    "        R8.upper_bound = 0.274\n",
    "        R9.upper_bound = 0.0192\n",
    "        R10.upper_bound = 0.479\n",
    "        R11.upper_bound = 0.934\n",
    "        R12.upper_bound = 0.31\n",
    "        R13.upper_bound = 0.0952\n",
    "        R14.upper_bound = 1.66\n",
    "        R15.upper_bound = 0.167\n",
    "        R16.upper_bound = 0.0468\n",
    "        R17.upper_bound = 0.0758\n",
    "        R18.upper_bound = 0.357\n",
    "        R19.upper_bound = 0.166\n",
    "        R20.upper_bound = 0.112\n",
    "        R21.upper_bound = 0.0207\n",
    "        R22.upper_bound = 0.0279\n",
    "        R23.upper_bound = 0.148\n",
    "        \n",
    "        R24.upper_bound = 1000\n",
    "        R25.upper_bound = 1000\n",
    "        R26.upper_bound = 1000\n",
    "        R27.upper_bound = 1000\n",
    "        R28.upper_bound = 1000\n",
    "        R29.upper_bound = 1000\n",
    "        R30.upper_bound = 1000\n",
    "        R31.upper_bound = 1000\n",
    "        R32.upper_bound = 1000\n",
    "        R33.upper_bound = 1000\n",
    "        \n",
    "    else: #medium == 'minimal'\n",
    "        R6.upper_bound = 0\n",
    "        R7.upper_bound = 0\n",
    "        R8.upper_bound = 0\n",
    "        R9.upper_bound = 0\n",
    "        R10.upper_bound = 0\n",
    "        R11.upper_bound = 0\n",
    "        R12.upper_bound = 0\n",
    "        R13.upper_bound = 0\n",
    "        R14.upper_bound = 0\n",
    "        R15.upper_bound = 0\n",
    "        R16.upper_bound = 0\n",
    "        R17.upper_bound = 0\n",
    "        R18.upper_bound = 0\n",
    "        R19.upper_bound = 0\n",
    "        R20.upper_bound = 0\n",
    "        R21.upper_bound = 0\n",
    "        R22.upper_bound = 0\n",
    "        R23.upper_bound = 0\n",
    "        \n",
    "        R24.upper_bound = 1000\n",
    "        R25.upper_bound = 1000\n",
    "        R26.upper_bound = 1000\n",
    "        R27.upper_bound = 1000\n",
    "        R30.upper_bound = 1000\n",
    "        R32.upper_bound = 1000\n",
    "        R33.upper_bound = 1000\n",
    "\n",
    "    \n",
    "    # set aeration conditions and in case of anaerobiosis, supplement the medium adequately for growth\n",
    "    if aeration == 'anaerobic':    \n",
    "        R1.upper_bound = 0\n",
    "        R34.upper_bound = 1000\n",
    "        R35.upper_bound = 1000\n",
    "        \n",
    "    return model"
   ]
  },
  {
   "cell_type": "code",
   "execution_count": 20,
   "metadata": {
    "scrolled": false
   },
   "outputs": [],
   "source": [
    "# 1-5 import library for data analysis\n",
    "\n",
    "# import function to read sbml files\n",
    "\n",
    "# define model\n",
    "\n",
    "# import function to simulate genes and reactions deletions\n",
    "\n",
    "# 6-9 set up conditions\n",
    "\n",
    "# set the objective function name\n",
    "\n",
    "# simulate growth \n",
    "\n",
    "# simulate gene deletions\n",
    "\n",
    "# 10 - 15 change conditions to rich aerobic\n",
    "\n",
    "# simulate growth \n",
    "\n",
    "# simulate gene deletions\n",
    "\n",
    "# how many genes are essential in rich vs minimal media? what is your expectation?\n",
    "growth_thr = 10e-6 # very small threshold for considering zero in-silico growth, fluxes usually never exact 0!\n",
    "\n",
    "# plotting results \n"
   ]
  },
  {
   "cell_type": "code",
   "execution_count": 21,
   "metadata": {},
   "outputs": [],
   "source": [
    "# 17-19 Ethanol case study\n",
    "\n",
    "# simulate ethanol production\n",
    "\n"
   ]
  },
  {
   "cell_type": "markdown",
   "metadata": {},
   "source": [
    "# Exercise 7 - Vanillin production in yeast\n",
    "\n",
    "1. Introduce a heterologous vanillin production pathway (see below, taken from Brochado et al., 2010) in the given yeast model and identify: i) active reactions needed for vanillin production; and ii) maximum theoretical yield of vanillin on glucose (g Vanillin /g Glucose). Use aerobic minimal media conditions for both simulations.\n",
    "\n",
    "*Vanillin pathway*\n",
    "\n",
    "#3DSD: 3-Dehydroshikimate -> Protocatechuic acid\n",
    "#ACAR: Protocatechuic acid + NADPH + ATP -> Protocatechuic aldehyde + NADP+ + AMP + Pyrophosphate\n",
    "#hsOMT: Protocatechuic aldehyde + S-Adenosyl-L-methionine -> Vanillin + S-Adenosyl-L-homocysteine\n",
    "#VG: Vanillin + UDPglucose -> Vanillin glucoside + UDP\n",
    "#secretion\n",
    "#VGxtO: Vanillin glucoside -> VGxtX\n",
    "\n",
    "**Workflow:**\n",
    "1. Set growth conditions\n",
    "2. Use provided function `inserVanillinPathway` to insert required set of reactions into the model\n",
    "3. Identify active reactions, use flux variability analysis to find minimal flux bounds\n",
    "4. Calculate maximum theoretical yield (g Vanillin /g Glucose), remember that glucose uptake rate is set to 22.6 mmol/(g CDW h); also vanillin is secreted as vanillin glucoside"
   ]
  },
  {
   "cell_type": "code",
   "execution_count": 22,
   "metadata": {
    "collapsed": true
   },
   "outputs": [],
   "source": [
    "def insertVanillinPathway(model):\n",
    "    \"\"\"\"\n",
    "     This function introduces the heterologous vanillin pathway into the yeast model\n",
    "     Input:  model - cobrapy model of organism's metabolism\n",
    "     Output: model - in silico engineered cobrapy model with heterologous reactions needed for the production \n",
    "     of vanillin\n",
    "    \"\"\"\n",
    "    proto_acid = Metabolite(\n",
    "        'Protocatechuic_acid_c',\n",
    "        formula='C7H6O4',\n",
    "        name='Protocatechuic acid',\n",
    "        compartment='c')\n",
    "\n",
    "    proto_aldehyde = Metabolite(\n",
    "        'Protocatechuic_aldehyde_c',\n",
    "        formula='C7H6O3',\n",
    "        name='Protocatechuic aldehyde',\n",
    "        compartment='c')\n",
    "\n",
    "    vanillin = Metabolite(\n",
    "        'Vanillin_c',\n",
    "        formula='C8H8O3',\n",
    "        name='Vanillin',\n",
    "        compartment='c')\n",
    "\n",
    "    vg_xt = Metabolite(\n",
    "        'Vanillin_glucoside_e',\n",
    "        formula='C14H18O8',\n",
    "        name='Vanillin glucoside',\n",
    "        compartment='e')\n",
    "\n",
    "    vanillin_glucoside = Metabolite(\n",
    "        'Vanillin_glucoside_c',\n",
    "        formula='C14H18O8',\n",
    "        name='Vanillin glucoside',\n",
    "        compartment='c')\n",
    "\n",
    "\n",
    "    shikimate_c = model.metabolites.get_by_id(\"m97\")\n",
    "    nadph_c = model.metabolites.get_by_id(\"m587\")\n",
    "    ATP_c = model.metabolites.get_by_id(\"m220\")\n",
    "    nadp_plus_c = model.metabolites.get_by_id(\"m585\")\n",
    "    AMP_c = model.metabolites.get_by_id(\"m211\")\n",
    "    PP_c = model.metabolites.get_by_id(\"m688\")\n",
    "    s_adenosyl_met_c = model.metabolites.get_by_id(\"m707\")\n",
    "    s_adenosyl_hcys_c = model.metabolites.get_by_id(\"m705\")\n",
    "    udp_glucose_c = model.metabolites.get_by_id(\"m778\")\n",
    "    udp_c = model.metabolites.get_by_id(\"m776\")\n",
    "\n",
    "    #3DSD: 3-Dehydroshikimate -> Protocatechuic acid\n",
    "    #ACAR: Protocatechuic acid + NADPH + ATP -> Protocatechuic aldehyde + NADP+ + AMP + Pyrophosphate\n",
    "    #hsOMT: Protocatechuic aldehyde + S-Adenosyl-L-methionine -> Vanillin + S-Adenosyl-L-homocysteine \n",
    "    #VG: Vanillin + UDPglucose -> Vanillin glucoside + UDP\n",
    "    #secretion\n",
    "    #VGxtO: Vanillin glucoside -> VGxtX\n",
    "\n",
    "    R_3DSD = Reaction(\"3DSD\")\n",
    "    R_3DSD.add_metabolites({shikimate_c: -1,\n",
    "                       proto_acid: 1})\n",
    "\n",
    "    R_ACAR = Reaction(\"ACAR\")\n",
    "    R_ACAR.add_metabolites({proto_acid: -1,\n",
    "                            nadph_c:-1,\n",
    "                            ATP_c: -1,\n",
    "                            proto_aldehyde: 1,\n",
    "                            nadp_plus_c: 1,\n",
    "                            AMP_c: 1,\n",
    "                            PP_c:1})\n",
    "\n",
    "\n",
    "    R_hsOMT = Reaction(\"hcOMT\")\n",
    "    R_hsOMT.add_metabolites({proto_aldehyde: -1,\n",
    "                             s_adenosyl_met_c: -1,\n",
    "                             vanillin: 1,\n",
    "                             s_adenosyl_hcys_c: 1})\n",
    "\n",
    "    R_VG = Reaction(\"VG\")\n",
    "    R_VG.add_metabolites({vanillin: -1,\n",
    "                          udp_glucose_c: -1,\n",
    "                          vanillin_glucoside: 1,\n",
    "                          udp_c: 1})            \n",
    "\n",
    "    R_VGxt = Reaction(\"VGxt\")\n",
    "    R_VGxt.add_metabolites({vanillin_glucoside:-1,\n",
    "                             vg_xt:1})\n",
    "\n",
    "    R_VGxtO = Reaction(\"VGxtO\")\n",
    "    R_VGxtO.add_metabolites({vg_xt:-1})\n",
    "    model.add_reactions([R_3DSD, R_ACAR, R_hsOMT, R_VG, R_VGxt, R_VGxtO])\n",
    "    \n",
    "    return model"
   ]
  },
  {
   "cell_type": "code",
   "execution_count": 23,
   "metadata": {},
   "outputs": [],
   "source": [
    "# import library for data analysis\n",
    "\n",
    "\n",
    "# define model\n",
    "\n",
    "# specify solver\n",
    "\n",
    "# set up conditions\n",
    "\n",
    "# change objective function to vanillin glucoside excretion\n",
    "\n",
    "# perform flux variability analysis to identify reactions that should have a non-zero flux\n",
    "\n",
    "# calculate the yield of vanillin on glucose g Vanillin /g Glucose\n",
    "# remember that glucose uptake rate is set to 22.6 mmol/(g CDW h)\n",
    "# vanillin_rate = solution.f\n",
    "# vanillin_molar_mass = 152.15 #g·mol−1\n",
    "# glucose_molar_mass = 180.16 #g·mol−1\n",
    "# glucose_uptake = 22.6\n"
   ]
  },
  {
   "cell_type": "code",
   "execution_count": null,
   "metadata": {
    "collapsed": true
   },
   "outputs": [],
   "source": []
  }
 ],
 "metadata": {
  "kernelspec": {
   "display_name": "Python 2",
   "language": "python",
   "name": "python2"
  },
  "language_info": {
   "codemirror_mode": {
    "name": "ipython",
    "version": 2
   },
   "file_extension": ".py",
   "mimetype": "text/x-python",
   "name": "python",
   "nbconvert_exporter": "python",
   "pygments_lexer": "ipython2",
   "version": "2.7.13"
  }
 },
 "nbformat": 4,
 "nbformat_minor": 1
}
